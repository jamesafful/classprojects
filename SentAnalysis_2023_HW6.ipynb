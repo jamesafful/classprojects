{
  "cells": [
    {
      "cell_type": "markdown",
      "metadata": {
        "id": "view-in-github",
        "colab_type": "text"
      },
      "source": [
        "<a href=\"https://colab.research.google.com/github/jamesafful/classprojects/blob/main/SentAnalysis_2023_HW6.ipynb\" target=\"_parent\"><img src=\"https://colab.research.google.com/assets/colab-badge.svg\" alt=\"Open In Colab\"/></a>"
      ]
    },
    {
      "cell_type": "markdown",
      "metadata": {
        "id": "tYFpYU_wtcgw"
      },
      "source": [
        "# Sentiment Analysis of Financial Data\n",
        "\n",
        "**Afful James** , 490378933"
      ]
    },
    {
      "cell_type": "markdown",
      "metadata": {
        "id": "zKaSKAIIgjj3"
      },
      "source": [
        "## 1 - Sentiment Analysis Overview\n",
        "\n",
        "In this Homework, we will be building a machine learning model to detect sentiment (i.e. detect if a sentence is positive, negative, or neutral) using PyTorch.\n",
        "\n",
        "This will be done on a publicly available Financial Stock Dataset, scrapped from Twitter (now called X).  (Bruno Taborda, Ana de Almeida, José Carlos Dias, Fernando Batista, Ricardo Ribeiro, April 15, 2021, \"Stock Market Tweets Data\", IEEE Dataport, doi: https://dx.doi.org/10.21227/g8vy-5w61.)\n",
        "\n",
        "**Introduction**\n",
        "We'll start out with a recurrent neural network (RNN) as they are commonly used in analysing sequences. An RNN takes in sequence of words,  𝑋=${𝑥_1,...,𝑥_𝑇} $, one at a time, and produces a hidden state,  ℎ , for each word. We use the RNN recurrently by feeding in the current word $x_t$ as well as the hidden state from the previous word,  $ℎ_{𝑡−1}$ , to produce the next hidden state, $h_t$.\n",
        "\n",
        "$h_t=RNN(x_t,ℎ_{𝑡−1})$\n",
        "\n",
        "Once we have our final hidden state,  $h_t$ , (from feeding in the last word in the sequence,$x_T$) we feed it through a linear layer, 𝑓 , (also known as a fully connected layer), to receive our predicted sentiment,  𝑦̂=𝑓($ℎ_𝑇$) .\n",
        "![](https://github.com/bentrevett/pytorch-sentiment-analysis/blob/master/assets/sentiment1.png?raw=1)\n",
        "\n",
        "\n",
        "Note: some layers and steps have been omitted from the diagram. Refer to your classnotes for detailed recap.\n",
        "\n",
        "\n",
        "The purpose of this homework is to help you familiarize yourself practically with RNNs, understand how they work, and compare the effects of different changes to their system in terms of architecture.\n",
        "\n",
        "\n",
        "**Homework Outline:**\n",
        "1. Introduction\n",
        "2. Import libraries and load the dataset and pre-process data.\n",
        "3. Build the vocabulary\n",
        "4. Standard Vanilla RNN with pre-trained word embeddings\n",
        "3. RNN with LSTM blocks\n",
        "4. LSTM with regularization\n",
        "5. Implement either Bidirectional RNN or Multi-layer RNN with regularization\n",
        "7. Data Augmentation\n",
        "8. Answer analytical questions about your implementations\n",
        "\n",
        "\n",
        "The implementation in this homework is inspired by a great tutorial from Ajay Shewale (https://github.com/ajayshewale/Sentiment-Analysis-of-Text-Data-Tweets-/tree/master) and Ben Trevett of Heriot-Watt University in Scotland (https://github.com/bentrevett/pytorch-sentiment-analysis); repurposed and adapted for this class by Samuel Fanijo and Julie Dickerson."
      ]
    },
    {
      "cell_type": "markdown",
      "metadata": {
        "id": "GAACccnth7d2"
      },
      "source": [
        "## 2 - Import Library and Load Dataset"
      ]
    },
    {
      "cell_type": "code",
      "execution_count": null,
      "metadata": {
        "colab": {
          "base_uri": "https://localhost:8080/"
        },
        "id": "tzBp9sFPglHP",
        "outputId": "46511a44-c42f-4cf7-f700-0f182d6ff24b"
      },
      "outputs": [
        {
          "output_type": "stream",
          "name": "stderr",
          "text": [
            "[nltk_data] Downloading package punkt to /root/nltk_data...\n",
            "[nltk_data]   Unzipping tokenizers/punkt.zip.\n"
          ]
        }
      ],
      "source": [
        "import numpy as np # linear algebra\n",
        "import pandas as pd # data processing, CSV file I/O (e.g. pd.read_csv)\n",
        "\n",
        "import torch\n",
        "import torch.nn as nn\n",
        "import torch.nn.functional as F\n",
        "from nltk.corpus import stopwords\n",
        "from collections import Counter\n",
        "import string\n",
        "import re\n",
        "import seaborn as sns\n",
        "from tqdm import tqdm\n",
        "import matplotlib.pyplot as plt\n",
        "from torch.utils.data import TensorDataset, DataLoader\n",
        "from sklearn.model_selection import train_test_split\n",
        "\n",
        "\n",
        "import nltk\n",
        "nltk.download('punkt')\n",
        "from nltk.tokenize import word_tokenize\n",
        "\n",
        "SEED = 123\n",
        "\n",
        "torch.manual_seed(SEED)\n",
        "torch.backends.cudnn.deterministic = True"
      ]
    },
    {
      "cell_type": "markdown",
      "metadata": {
        "id": "4ENLfMyqidjn"
      },
      "source": [
        "Check for GPU, otherwise, use CPU"
      ]
    },
    {
      "cell_type": "code",
      "execution_count": null,
      "metadata": {
        "colab": {
          "base_uri": "https://localhost:8080/"
        },
        "id": "DirN0jCkiboa",
        "outputId": "46f63d0b-86d7-4d39-a0b6-7cb79ac0e574"
      },
      "outputs": [
        {
          "output_type": "stream",
          "name": "stdout",
          "text": [
            "GPU not available, CPU used\n"
          ]
        }
      ],
      "source": [
        "is_cuda = torch.cuda.is_available()\n",
        "\n",
        "# If we have a GPU available, we'll set our device to GPU. We'll use this device variable later in our code.\n",
        "if is_cuda:\n",
        "    device = torch.device(\"cuda\")\n",
        "    print(\"GPU is available\")\n",
        "else:\n",
        "    device = torch.device(\"cpu\")\n",
        "    print(\"GPU not available, CPU used\")"
      ]
    },
    {
      "cell_type": "markdown",
      "metadata": {
        "id": "4okJyKi09kbf"
      },
      "source": [
        "### 2.1 - Data Source and Metadata\n",
        "\n",
        "This dataset is sourced from this work:\n",
        "\n",
        "Malo, Pekka, et al. \"Good debt or bad debt: Detecting semantic orientations in economic texts.\" Journal of the Association for Information Science and Technology 65.4 (2014): 782-796.\n",
        "\n",
        "\n",
        "Tweets were collected between April 9 and July 16, 2020 using not only the SPX500 tag but also the top 25 companies in the index and \"#stocks\". The tweets were manually classified and reviewed.\n",
        "\n",
        "Dataset has been cleaned and currently has two columns:\n",
        "\n",
        "- Tweet -> Tweet/text written by the user.\n",
        "- Sentiment -> Whether the tweet was postive, negative, or neutral.\n",
        "\n"
      ]
    },
    {
      "cell_type": "code",
      "execution_count": null,
      "metadata": {
        "colab": {
          "base_uri": "https://localhost:8080/",
          "height": 224
        },
        "id": "mhm9mvuoitbn",
        "outputId": "abe78241-673f-46d6-86e5-eeef9b3ad6f7"
      },
      "outputs": [
        {
          "output_type": "stream",
          "name": "stdout",
          "text": [
            "Mounted at /content/drive/\n"
          ]
        },
        {
          "output_type": "execute_result",
          "data": {
            "text/plain": [
              "                                            Sentence Sentiment\n",
              "0  The GeoSolutions technology will leverage Bene...  positive\n",
              "1  $ESI on lows, down $1.50 to $2.50 BK a real po...  negative\n",
              "2  For the last quarter of 2010 , Componenta 's n...  positive\n",
              "3  According to the Finnish-Russian Chamber of Co...   neutral\n",
              "4  The Swedish buyout firm has sold its remaining...   neutral"
            ],
            "text/html": [
              "\n",
              "  <div id=\"df-5520e646-eb04-48df-9601-a7af24a06977\" class=\"colab-df-container\">\n",
              "    <div>\n",
              "<style scoped>\n",
              "    .dataframe tbody tr th:only-of-type {\n",
              "        vertical-align: middle;\n",
              "    }\n",
              "\n",
              "    .dataframe tbody tr th {\n",
              "        vertical-align: top;\n",
              "    }\n",
              "\n",
              "    .dataframe thead th {\n",
              "        text-align: right;\n",
              "    }\n",
              "</style>\n",
              "<table border=\"1\" class=\"dataframe\">\n",
              "  <thead>\n",
              "    <tr style=\"text-align: right;\">\n",
              "      <th></th>\n",
              "      <th>Sentence</th>\n",
              "      <th>Sentiment</th>\n",
              "    </tr>\n",
              "  </thead>\n",
              "  <tbody>\n",
              "    <tr>\n",
              "      <th>0</th>\n",
              "      <td>The GeoSolutions technology will leverage Bene...</td>\n",
              "      <td>positive</td>\n",
              "    </tr>\n",
              "    <tr>\n",
              "      <th>1</th>\n",
              "      <td>$ESI on lows, down $1.50 to $2.50 BK a real po...</td>\n",
              "      <td>negative</td>\n",
              "    </tr>\n",
              "    <tr>\n",
              "      <th>2</th>\n",
              "      <td>For the last quarter of 2010 , Componenta 's n...</td>\n",
              "      <td>positive</td>\n",
              "    </tr>\n",
              "    <tr>\n",
              "      <th>3</th>\n",
              "      <td>According to the Finnish-Russian Chamber of Co...</td>\n",
              "      <td>neutral</td>\n",
              "    </tr>\n",
              "    <tr>\n",
              "      <th>4</th>\n",
              "      <td>The Swedish buyout firm has sold its remaining...</td>\n",
              "      <td>neutral</td>\n",
              "    </tr>\n",
              "  </tbody>\n",
              "</table>\n",
              "</div>\n",
              "    <div class=\"colab-df-buttons\">\n",
              "\n",
              "  <div class=\"colab-df-container\">\n",
              "    <button class=\"colab-df-convert\" onclick=\"convertToInteractive('df-5520e646-eb04-48df-9601-a7af24a06977')\"\n",
              "            title=\"Convert this dataframe to an interactive table.\"\n",
              "            style=\"display:none;\">\n",
              "\n",
              "  <svg xmlns=\"http://www.w3.org/2000/svg\" height=\"24px\" viewBox=\"0 -960 960 960\">\n",
              "    <path d=\"M120-120v-720h720v720H120Zm60-500h600v-160H180v160Zm220 220h160v-160H400v160Zm0 220h160v-160H400v160ZM180-400h160v-160H180v160Zm440 0h160v-160H620v160ZM180-180h160v-160H180v160Zm440 0h160v-160H620v160Z\"/>\n",
              "  </svg>\n",
              "    </button>\n",
              "\n",
              "  <style>\n",
              "    .colab-df-container {\n",
              "      display:flex;\n",
              "      gap: 12px;\n",
              "    }\n",
              "\n",
              "    .colab-df-convert {\n",
              "      background-color: #E8F0FE;\n",
              "      border: none;\n",
              "      border-radius: 50%;\n",
              "      cursor: pointer;\n",
              "      display: none;\n",
              "      fill: #1967D2;\n",
              "      height: 32px;\n",
              "      padding: 0 0 0 0;\n",
              "      width: 32px;\n",
              "    }\n",
              "\n",
              "    .colab-df-convert:hover {\n",
              "      background-color: #E2EBFA;\n",
              "      box-shadow: 0px 1px 2px rgba(60, 64, 67, 0.3), 0px 1px 3px 1px rgba(60, 64, 67, 0.15);\n",
              "      fill: #174EA6;\n",
              "    }\n",
              "\n",
              "    .colab-df-buttons div {\n",
              "      margin-bottom: 4px;\n",
              "    }\n",
              "\n",
              "    [theme=dark] .colab-df-convert {\n",
              "      background-color: #3B4455;\n",
              "      fill: #D2E3FC;\n",
              "    }\n",
              "\n",
              "    [theme=dark] .colab-df-convert:hover {\n",
              "      background-color: #434B5C;\n",
              "      box-shadow: 0px 1px 3px 1px rgba(0, 0, 0, 0.15);\n",
              "      filter: drop-shadow(0px 1px 2px rgba(0, 0, 0, 0.3));\n",
              "      fill: #FFFFFF;\n",
              "    }\n",
              "  </style>\n",
              "\n",
              "    <script>\n",
              "      const buttonEl =\n",
              "        document.querySelector('#df-5520e646-eb04-48df-9601-a7af24a06977 button.colab-df-convert');\n",
              "      buttonEl.style.display =\n",
              "        google.colab.kernel.accessAllowed ? 'block' : 'none';\n",
              "\n",
              "      async function convertToInteractive(key) {\n",
              "        const element = document.querySelector('#df-5520e646-eb04-48df-9601-a7af24a06977');\n",
              "        const dataTable =\n",
              "          await google.colab.kernel.invokeFunction('convertToInteractive',\n",
              "                                                    [key], {});\n",
              "        if (!dataTable) return;\n",
              "\n",
              "        const docLinkHtml = 'Like what you see? Visit the ' +\n",
              "          '<a target=\"_blank\" href=https://colab.research.google.com/notebooks/data_table.ipynb>data table notebook</a>'\n",
              "          + ' to learn more about interactive tables.';\n",
              "        element.innerHTML = '';\n",
              "        dataTable['output_type'] = 'display_data';\n",
              "        await google.colab.output.renderOutput(dataTable, element);\n",
              "        const docLink = document.createElement('div');\n",
              "        docLink.innerHTML = docLinkHtml;\n",
              "        element.appendChild(docLink);\n",
              "      }\n",
              "    </script>\n",
              "  </div>\n",
              "\n",
              "\n",
              "<div id=\"df-658b9566-075b-4218-b759-ab8ad5eef6e9\">\n",
              "  <button class=\"colab-df-quickchart\" onclick=\"quickchart('df-658b9566-075b-4218-b759-ab8ad5eef6e9')\"\n",
              "            title=\"Suggest charts\"\n",
              "            style=\"display:none;\">\n",
              "\n",
              "<svg xmlns=\"http://www.w3.org/2000/svg\" height=\"24px\"viewBox=\"0 0 24 24\"\n",
              "     width=\"24px\">\n",
              "    <g>\n",
              "        <path d=\"M19 3H5c-1.1 0-2 .9-2 2v14c0 1.1.9 2 2 2h14c1.1 0 2-.9 2-2V5c0-1.1-.9-2-2-2zM9 17H7v-7h2v7zm4 0h-2V7h2v10zm4 0h-2v-4h2v4z\"/>\n",
              "    </g>\n",
              "</svg>\n",
              "  </button>\n",
              "\n",
              "<style>\n",
              "  .colab-df-quickchart {\n",
              "      --bg-color: #E8F0FE;\n",
              "      --fill-color: #1967D2;\n",
              "      --hover-bg-color: #E2EBFA;\n",
              "      --hover-fill-color: #174EA6;\n",
              "      --disabled-fill-color: #AAA;\n",
              "      --disabled-bg-color: #DDD;\n",
              "  }\n",
              "\n",
              "  [theme=dark] .colab-df-quickchart {\n",
              "      --bg-color: #3B4455;\n",
              "      --fill-color: #D2E3FC;\n",
              "      --hover-bg-color: #434B5C;\n",
              "      --hover-fill-color: #FFFFFF;\n",
              "      --disabled-bg-color: #3B4455;\n",
              "      --disabled-fill-color: #666;\n",
              "  }\n",
              "\n",
              "  .colab-df-quickchart {\n",
              "    background-color: var(--bg-color);\n",
              "    border: none;\n",
              "    border-radius: 50%;\n",
              "    cursor: pointer;\n",
              "    display: none;\n",
              "    fill: var(--fill-color);\n",
              "    height: 32px;\n",
              "    padding: 0;\n",
              "    width: 32px;\n",
              "  }\n",
              "\n",
              "  .colab-df-quickchart:hover {\n",
              "    background-color: var(--hover-bg-color);\n",
              "    box-shadow: 0 1px 2px rgba(60, 64, 67, 0.3), 0 1px 3px 1px rgba(60, 64, 67, 0.15);\n",
              "    fill: var(--button-hover-fill-color);\n",
              "  }\n",
              "\n",
              "  .colab-df-quickchart-complete:disabled,\n",
              "  .colab-df-quickchart-complete:disabled:hover {\n",
              "    background-color: var(--disabled-bg-color);\n",
              "    fill: var(--disabled-fill-color);\n",
              "    box-shadow: none;\n",
              "  }\n",
              "\n",
              "  .colab-df-spinner {\n",
              "    border: 2px solid var(--fill-color);\n",
              "    border-color: transparent;\n",
              "    border-bottom-color: var(--fill-color);\n",
              "    animation:\n",
              "      spin 1s steps(1) infinite;\n",
              "  }\n",
              "\n",
              "  @keyframes spin {\n",
              "    0% {\n",
              "      border-color: transparent;\n",
              "      border-bottom-color: var(--fill-color);\n",
              "      border-left-color: var(--fill-color);\n",
              "    }\n",
              "    20% {\n",
              "      border-color: transparent;\n",
              "      border-left-color: var(--fill-color);\n",
              "      border-top-color: var(--fill-color);\n",
              "    }\n",
              "    30% {\n",
              "      border-color: transparent;\n",
              "      border-left-color: var(--fill-color);\n",
              "      border-top-color: var(--fill-color);\n",
              "      border-right-color: var(--fill-color);\n",
              "    }\n",
              "    40% {\n",
              "      border-color: transparent;\n",
              "      border-right-color: var(--fill-color);\n",
              "      border-top-color: var(--fill-color);\n",
              "    }\n",
              "    60% {\n",
              "      border-color: transparent;\n",
              "      border-right-color: var(--fill-color);\n",
              "    }\n",
              "    80% {\n",
              "      border-color: transparent;\n",
              "      border-right-color: var(--fill-color);\n",
              "      border-bottom-color: var(--fill-color);\n",
              "    }\n",
              "    90% {\n",
              "      border-color: transparent;\n",
              "      border-bottom-color: var(--fill-color);\n",
              "    }\n",
              "  }\n",
              "</style>\n",
              "\n",
              "  <script>\n",
              "    async function quickchart(key) {\n",
              "      const quickchartButtonEl =\n",
              "        document.querySelector('#' + key + ' button');\n",
              "      quickchartButtonEl.disabled = true;  // To prevent multiple clicks.\n",
              "      quickchartButtonEl.classList.add('colab-df-spinner');\n",
              "      try {\n",
              "        const charts = await google.colab.kernel.invokeFunction(\n",
              "            'suggestCharts', [key], {});\n",
              "      } catch (error) {\n",
              "        console.error('Error during call to suggestCharts:', error);\n",
              "      }\n",
              "      quickchartButtonEl.classList.remove('colab-df-spinner');\n",
              "      quickchartButtonEl.classList.add('colab-df-quickchart-complete');\n",
              "    }\n",
              "    (() => {\n",
              "      let quickchartButtonEl =\n",
              "        document.querySelector('#df-658b9566-075b-4218-b759-ab8ad5eef6e9 button');\n",
              "      quickchartButtonEl.style.display =\n",
              "        google.colab.kernel.accessAllowed ? 'block' : 'none';\n",
              "    })();\n",
              "  </script>\n",
              "</div>\n",
              "    </div>\n",
              "  </div>\n"
            ]
          },
          "metadata": {},
          "execution_count": 3
        }
      ],
      "source": [
        "#modify path as needed\n",
        "from google.colab import drive\n",
        "drive.mount('/content/drive/')\n",
        "drive_path = \"/content/drive/My Drive/\"\n",
        "base_csv = '/content/drive/My Drive/financialdata.csv'\n",
        "\n",
        "# if in the same directory as your notebook\n",
        "base_csv = 'financialdata.csv'\n",
        "\n",
        "\n",
        "df = pd.read_csv(base_csv)\n",
        "df.head()"
      ]
    },
    {
      "cell_type": "markdown",
      "metadata": {
        "id": "xfAPcahKjzzA"
      },
      "source": [
        "### 3 - Data Preprocessing"
      ]
    },
    {
      "cell_type": "markdown",
      "metadata": {
        "id": "0N_7IT6jj5hk"
      },
      "source": [
        "### Split dataset to Training and Test"
      ]
    },
    {
      "cell_type": "code",
      "execution_count": null,
      "metadata": {
        "id": "jJ0R1s4Hj2JF"
      },
      "outputs": [],
      "source": [
        "# Specify the percentage you want for the test set (20% in this case)\n",
        "\n",
        "test_percentage = 0.2\n",
        "\n",
        "# Split the data into training and test sets\n",
        "train_df, test_df = train_test_split(df, test_size=test_percentage, random_state=42)\n"
      ]
    },
    {
      "cell_type": "code",
      "execution_count": null,
      "metadata": {
        "colab": {
          "base_uri": "https://localhost:8080/",
          "height": 423
        },
        "id": "HO8HfISHkXwg",
        "outputId": "20bf6fac-aac0-4a7b-b7f8-92ceaf11018c"
      },
      "outputs": [
        {
          "output_type": "execute_result",
          "data": {
            "text/plain": [
              "                                               Sentence Sentiment\n",
              "1647  The floor area of the Yliopistonrinne project ...   neutral\n",
              "1669  no compensation for its news , opinions or dis...   neutral\n",
              "3159   RT @ACInvestorBlog $AAPL still on track for $500  positive\n",
              "4577  This includes a EUR 39.5 mn change in the fair...   neutral\n",
              "4221                                  $GTE LONG at 7.44  positive\n",
              "...                                                 ...       ...\n",
              "3772  @BULLYA @pollux654321 My 50 $KORS 80 Calls are...  positive\n",
              "5191  According to Sepp+ñnen , the new technology UM...  positive\n",
              "5226   $CRUS Upgraded to a buy by Alpha Street Research  positive\n",
              "5390  Favourable currency rates also contributed to ...  positive\n",
              "860   Tesco breaks its downward slide by cutting sal...  positive\n",
              "\n",
              "[4673 rows x 2 columns]"
            ],
            "text/html": [
              "\n",
              "  <div id=\"df-6fec4f36-57ab-4e8b-848d-6d30e5816b7a\" class=\"colab-df-container\">\n",
              "    <div>\n",
              "<style scoped>\n",
              "    .dataframe tbody tr th:only-of-type {\n",
              "        vertical-align: middle;\n",
              "    }\n",
              "\n",
              "    .dataframe tbody tr th {\n",
              "        vertical-align: top;\n",
              "    }\n",
              "\n",
              "    .dataframe thead th {\n",
              "        text-align: right;\n",
              "    }\n",
              "</style>\n",
              "<table border=\"1\" class=\"dataframe\">\n",
              "  <thead>\n",
              "    <tr style=\"text-align: right;\">\n",
              "      <th></th>\n",
              "      <th>Sentence</th>\n",
              "      <th>Sentiment</th>\n",
              "    </tr>\n",
              "  </thead>\n",
              "  <tbody>\n",
              "    <tr>\n",
              "      <th>1647</th>\n",
              "      <td>The floor area of the Yliopistonrinne project ...</td>\n",
              "      <td>neutral</td>\n",
              "    </tr>\n",
              "    <tr>\n",
              "      <th>1669</th>\n",
              "      <td>no compensation for its news , opinions or dis...</td>\n",
              "      <td>neutral</td>\n",
              "    </tr>\n",
              "    <tr>\n",
              "      <th>3159</th>\n",
              "      <td>RT @ACInvestorBlog $AAPL still on track for $500</td>\n",
              "      <td>positive</td>\n",
              "    </tr>\n",
              "    <tr>\n",
              "      <th>4577</th>\n",
              "      <td>This includes a EUR 39.5 mn change in the fair...</td>\n",
              "      <td>neutral</td>\n",
              "    </tr>\n",
              "    <tr>\n",
              "      <th>4221</th>\n",
              "      <td>$GTE LONG at 7.44</td>\n",
              "      <td>positive</td>\n",
              "    </tr>\n",
              "    <tr>\n",
              "      <th>...</th>\n",
              "      <td>...</td>\n",
              "      <td>...</td>\n",
              "    </tr>\n",
              "    <tr>\n",
              "      <th>3772</th>\n",
              "      <td>@BULLYA @pollux654321 My 50 $KORS 80 Calls are...</td>\n",
              "      <td>positive</td>\n",
              "    </tr>\n",
              "    <tr>\n",
              "      <th>5191</th>\n",
              "      <td>According to Sepp+ñnen , the new technology UM...</td>\n",
              "      <td>positive</td>\n",
              "    </tr>\n",
              "    <tr>\n",
              "      <th>5226</th>\n",
              "      <td>$CRUS Upgraded to a buy by Alpha Street Research</td>\n",
              "      <td>positive</td>\n",
              "    </tr>\n",
              "    <tr>\n",
              "      <th>5390</th>\n",
              "      <td>Favourable currency rates also contributed to ...</td>\n",
              "      <td>positive</td>\n",
              "    </tr>\n",
              "    <tr>\n",
              "      <th>860</th>\n",
              "      <td>Tesco breaks its downward slide by cutting sal...</td>\n",
              "      <td>positive</td>\n",
              "    </tr>\n",
              "  </tbody>\n",
              "</table>\n",
              "<p>4673 rows × 2 columns</p>\n",
              "</div>\n",
              "    <div class=\"colab-df-buttons\">\n",
              "\n",
              "  <div class=\"colab-df-container\">\n",
              "    <button class=\"colab-df-convert\" onclick=\"convertToInteractive('df-6fec4f36-57ab-4e8b-848d-6d30e5816b7a')\"\n",
              "            title=\"Convert this dataframe to an interactive table.\"\n",
              "            style=\"display:none;\">\n",
              "\n",
              "  <svg xmlns=\"http://www.w3.org/2000/svg\" height=\"24px\" viewBox=\"0 -960 960 960\">\n",
              "    <path d=\"M120-120v-720h720v720H120Zm60-500h600v-160H180v160Zm220 220h160v-160H400v160Zm0 220h160v-160H400v160ZM180-400h160v-160H180v160Zm440 0h160v-160H620v160ZM180-180h160v-160H180v160Zm440 0h160v-160H620v160Z\"/>\n",
              "  </svg>\n",
              "    </button>\n",
              "\n",
              "  <style>\n",
              "    .colab-df-container {\n",
              "      display:flex;\n",
              "      gap: 12px;\n",
              "    }\n",
              "\n",
              "    .colab-df-convert {\n",
              "      background-color: #E8F0FE;\n",
              "      border: none;\n",
              "      border-radius: 50%;\n",
              "      cursor: pointer;\n",
              "      display: none;\n",
              "      fill: #1967D2;\n",
              "      height: 32px;\n",
              "      padding: 0 0 0 0;\n",
              "      width: 32px;\n",
              "    }\n",
              "\n",
              "    .colab-df-convert:hover {\n",
              "      background-color: #E2EBFA;\n",
              "      box-shadow: 0px 1px 2px rgba(60, 64, 67, 0.3), 0px 1px 3px 1px rgba(60, 64, 67, 0.15);\n",
              "      fill: #174EA6;\n",
              "    }\n",
              "\n",
              "    .colab-df-buttons div {\n",
              "      margin-bottom: 4px;\n",
              "    }\n",
              "\n",
              "    [theme=dark] .colab-df-convert {\n",
              "      background-color: #3B4455;\n",
              "      fill: #D2E3FC;\n",
              "    }\n",
              "\n",
              "    [theme=dark] .colab-df-convert:hover {\n",
              "      background-color: #434B5C;\n",
              "      box-shadow: 0px 1px 3px 1px rgba(0, 0, 0, 0.15);\n",
              "      filter: drop-shadow(0px 1px 2px rgba(0, 0, 0, 0.3));\n",
              "      fill: #FFFFFF;\n",
              "    }\n",
              "  </style>\n",
              "\n",
              "    <script>\n",
              "      const buttonEl =\n",
              "        document.querySelector('#df-6fec4f36-57ab-4e8b-848d-6d30e5816b7a button.colab-df-convert');\n",
              "      buttonEl.style.display =\n",
              "        google.colab.kernel.accessAllowed ? 'block' : 'none';\n",
              "\n",
              "      async function convertToInteractive(key) {\n",
              "        const element = document.querySelector('#df-6fec4f36-57ab-4e8b-848d-6d30e5816b7a');\n",
              "        const dataTable =\n",
              "          await google.colab.kernel.invokeFunction('convertToInteractive',\n",
              "                                                    [key], {});\n",
              "        if (!dataTable) return;\n",
              "\n",
              "        const docLinkHtml = 'Like what you see? Visit the ' +\n",
              "          '<a target=\"_blank\" href=https://colab.research.google.com/notebooks/data_table.ipynb>data table notebook</a>'\n",
              "          + ' to learn more about interactive tables.';\n",
              "        element.innerHTML = '';\n",
              "        dataTable['output_type'] = 'display_data';\n",
              "        await google.colab.output.renderOutput(dataTable, element);\n",
              "        const docLink = document.createElement('div');\n",
              "        docLink.innerHTML = docLinkHtml;\n",
              "        element.appendChild(docLink);\n",
              "      }\n",
              "    </script>\n",
              "  </div>\n",
              "\n",
              "\n",
              "<div id=\"df-559a8ccb-ab84-4446-ab26-50c399e48125\">\n",
              "  <button class=\"colab-df-quickchart\" onclick=\"quickchart('df-559a8ccb-ab84-4446-ab26-50c399e48125')\"\n",
              "            title=\"Suggest charts\"\n",
              "            style=\"display:none;\">\n",
              "\n",
              "<svg xmlns=\"http://www.w3.org/2000/svg\" height=\"24px\"viewBox=\"0 0 24 24\"\n",
              "     width=\"24px\">\n",
              "    <g>\n",
              "        <path d=\"M19 3H5c-1.1 0-2 .9-2 2v14c0 1.1.9 2 2 2h14c1.1 0 2-.9 2-2V5c0-1.1-.9-2-2-2zM9 17H7v-7h2v7zm4 0h-2V7h2v10zm4 0h-2v-4h2v4z\"/>\n",
              "    </g>\n",
              "</svg>\n",
              "  </button>\n",
              "\n",
              "<style>\n",
              "  .colab-df-quickchart {\n",
              "      --bg-color: #E8F0FE;\n",
              "      --fill-color: #1967D2;\n",
              "      --hover-bg-color: #E2EBFA;\n",
              "      --hover-fill-color: #174EA6;\n",
              "      --disabled-fill-color: #AAA;\n",
              "      --disabled-bg-color: #DDD;\n",
              "  }\n",
              "\n",
              "  [theme=dark] .colab-df-quickchart {\n",
              "      --bg-color: #3B4455;\n",
              "      --fill-color: #D2E3FC;\n",
              "      --hover-bg-color: #434B5C;\n",
              "      --hover-fill-color: #FFFFFF;\n",
              "      --disabled-bg-color: #3B4455;\n",
              "      --disabled-fill-color: #666;\n",
              "  }\n",
              "\n",
              "  .colab-df-quickchart {\n",
              "    background-color: var(--bg-color);\n",
              "    border: none;\n",
              "    border-radius: 50%;\n",
              "    cursor: pointer;\n",
              "    display: none;\n",
              "    fill: var(--fill-color);\n",
              "    height: 32px;\n",
              "    padding: 0;\n",
              "    width: 32px;\n",
              "  }\n",
              "\n",
              "  .colab-df-quickchart:hover {\n",
              "    background-color: var(--hover-bg-color);\n",
              "    box-shadow: 0 1px 2px rgba(60, 64, 67, 0.3), 0 1px 3px 1px rgba(60, 64, 67, 0.15);\n",
              "    fill: var(--button-hover-fill-color);\n",
              "  }\n",
              "\n",
              "  .colab-df-quickchart-complete:disabled,\n",
              "  .colab-df-quickchart-complete:disabled:hover {\n",
              "    background-color: var(--disabled-bg-color);\n",
              "    fill: var(--disabled-fill-color);\n",
              "    box-shadow: none;\n",
              "  }\n",
              "\n",
              "  .colab-df-spinner {\n",
              "    border: 2px solid var(--fill-color);\n",
              "    border-color: transparent;\n",
              "    border-bottom-color: var(--fill-color);\n",
              "    animation:\n",
              "      spin 1s steps(1) infinite;\n",
              "  }\n",
              "\n",
              "  @keyframes spin {\n",
              "    0% {\n",
              "      border-color: transparent;\n",
              "      border-bottom-color: var(--fill-color);\n",
              "      border-left-color: var(--fill-color);\n",
              "    }\n",
              "    20% {\n",
              "      border-color: transparent;\n",
              "      border-left-color: var(--fill-color);\n",
              "      border-top-color: var(--fill-color);\n",
              "    }\n",
              "    30% {\n",
              "      border-color: transparent;\n",
              "      border-left-color: var(--fill-color);\n",
              "      border-top-color: var(--fill-color);\n",
              "      border-right-color: var(--fill-color);\n",
              "    }\n",
              "    40% {\n",
              "      border-color: transparent;\n",
              "      border-right-color: var(--fill-color);\n",
              "      border-top-color: var(--fill-color);\n",
              "    }\n",
              "    60% {\n",
              "      border-color: transparent;\n",
              "      border-right-color: var(--fill-color);\n",
              "    }\n",
              "    80% {\n",
              "      border-color: transparent;\n",
              "      border-right-color: var(--fill-color);\n",
              "      border-bottom-color: var(--fill-color);\n",
              "    }\n",
              "    90% {\n",
              "      border-color: transparent;\n",
              "      border-bottom-color: var(--fill-color);\n",
              "    }\n",
              "  }\n",
              "</style>\n",
              "\n",
              "  <script>\n",
              "    async function quickchart(key) {\n",
              "      const quickchartButtonEl =\n",
              "        document.querySelector('#' + key + ' button');\n",
              "      quickchartButtonEl.disabled = true;  // To prevent multiple clicks.\n",
              "      quickchartButtonEl.classList.add('colab-df-spinner');\n",
              "      try {\n",
              "        const charts = await google.colab.kernel.invokeFunction(\n",
              "            'suggestCharts', [key], {});\n",
              "      } catch (error) {\n",
              "        console.error('Error during call to suggestCharts:', error);\n",
              "      }\n",
              "      quickchartButtonEl.classList.remove('colab-df-spinner');\n",
              "      quickchartButtonEl.classList.add('colab-df-quickchart-complete');\n",
              "    }\n",
              "    (() => {\n",
              "      let quickchartButtonEl =\n",
              "        document.querySelector('#df-559a8ccb-ab84-4446-ab26-50c399e48125 button');\n",
              "      quickchartButtonEl.style.display =\n",
              "        google.colab.kernel.accessAllowed ? 'block' : 'none';\n",
              "    })();\n",
              "  </script>\n",
              "</div>\n",
              "    </div>\n",
              "  </div>\n"
            ]
          },
          "metadata": {},
          "execution_count": 5
        }
      ],
      "source": [
        "train_df"
      ]
    },
    {
      "cell_type": "code",
      "execution_count": null,
      "metadata": {
        "colab": {
          "base_uri": "https://localhost:8080/"
        },
        "id": "-A6gcvsVkpL0",
        "outputId": "edb9be45-046c-4a8c-da88-063af569a518"
      },
      "outputs": [
        {
          "output_type": "execute_result",
          "data": {
            "text/plain": [
              "neutral     2508\n",
              "positive    1480\n",
              "negative     685\n",
              "Name: Sentiment, dtype: int64"
            ]
          },
          "metadata": {},
          "execution_count": 6
        }
      ],
      "source": [
        "train_df['Sentiment'].value_counts()"
      ]
    },
    {
      "cell_type": "markdown",
      "metadata": {
        "id": "KxGx2icFMNcR"
      },
      "source": [
        "### How balanced is the dataset?"
      ]
    },
    {
      "cell_type": "code",
      "execution_count": null,
      "metadata": {
        "colab": {
          "base_uri": "https://localhost:8080/",
          "height": 430
        },
        "id": "BSieojLvkwuW",
        "outputId": "7901b4ed-d838-474a-b853-b4a9c5a217d5"
      },
      "outputs": [
        {
          "output_type": "display_data",
          "data": {
            "text/plain": [
              "<Figure size 640x480 with 1 Axes>"
            ],
            "image/png": "[encoded data removed]"
          },
          "metadata": {}
        }
      ],
      "source": [
        "dd = pd.Series(train_df['Sentiment']).value_counts()\n",
        "sns.barplot(x=np.array(['negative','positive', 'neutral']),y=dd.values)\n",
        "plt.show()"
      ]
    },
    {
      "cell_type": "markdown",
      "metadata": {
        "id": "IuLt8Hf47XOF"
      },
      "source": [
        "### **Note the data imbalance! One of your tasks at the end of this notebook will be to correct this**"
      ]
    },
    {
      "cell_type": "markdown",
      "metadata": {
        "id": "pAODiVMvlQwk"
      },
      "source": [
        "### Since the data is small, we can convert them into python lists for further preprocessing"
      ]
    },
    {
      "cell_type": "code",
      "execution_count": null,
      "metadata": {
        "id": "suCPsTNekxV0"
      },
      "outputs": [],
      "source": [
        "train_set = list(train_df.to_records(index=False))\n",
        "test_set = list(test_df.to_records(index=False))"
      ]
    },
    {
      "cell_type": "code",
      "execution_count": null,
      "metadata": {
        "colab": {
          "base_uri": "https://localhost:8080/"
        },
        "id": "Za9Tc4cJlccV",
        "outputId": "bcd0d382-24fe-4a93-86c8-dd71af3285d0"
      },
      "outputs": [
        {
          "output_type": "execute_result",
          "data": {
            "text/plain": [
              "[(\"The floor area of the Yliopistonrinne project will be 7,900 sq m 85,030 sq ft and the building 's gross area will total 12,800 sq m. A total 25.1 % of the facilities have been let .\", 'neutral'),\n",
              " ('no compensation for its news , opinions or distributions .', 'neutral'),\n",
              " ('RT @ACInvestorBlog $AAPL still on track for $500', 'positive'),\n",
              " ('This includes a EUR 39.5 mn change in the fair value of investment properties .', 'neutral'),\n",
              " ('$GTE LONG at 7.44', 'positive'),\n",
              " ('Product coverage : baked goods ; biscuits ; breakfast cereals Data coverage : market sizes historic and forecasts , company shares , brand shares and distribution data .', 'neutral'),\n",
              " ('The investment will be worth approximately EUR 100mn .', 'neutral'),\n",
              " ('Typical end-uses include roof structures , floorings , walls and ceilings , non-visible structures in vehicles , packaging and boxes , construction site structures , fencing and shelters , and formwork with a limited number of concrete pourings .', 'neutral'),\n",
              " ('Tesco, Asda sales fall as march of the discounters continues-Kantar', 'negative'),\n",
              " ('The company said production volumes so far indicate the circuit is capable of the targeted output rate of 60,000 tonnes per day , or 22 million tonnes a year .', 'neutral')]"
            ]
          },
          "metadata": {},
          "execution_count": 9
        }
      ],
      "source": [
        "train_set[:10]"
      ]
    },
    {
      "cell_type": "markdown",
      "metadata": {
        "id": "Wdf4yIShl6ki"
      },
      "source": [
        "### 2.2 Pre-process the data\n",
        "Since tweets include things such as hyperlinks, numbers, symbols, we need to clean up the data before processing."
      ]
    },
    {
      "cell_type": "code",
      "execution_count": null,
      "metadata": {
        "id": "5oZ_jpHbl903"
      },
      "outputs": [],
      "source": [
        "def remove_links(tweet):\n",
        "    link_pattern = \"https?:\\/\\/t.co/[\\w]+\"\n",
        "    mention_pattern = \"@\\w+\"\n",
        "    tweet = re.sub(link_pattern, \"\", tweet)\n",
        "    tweet = re.sub(mention_pattern, \"\", tweet)\n",
        "    return tweet.lower()"
      ]
    },
    {
      "cell_type": "code",
      "execution_count": null,
      "metadata": {
        "colab": {
          "base_uri": "https://localhost:8080/",
          "height": 36
        },
        "id": "Rl8faLxqmBd4",
        "outputId": "f461aeb9-e8d3-475b-9cba-4d1f0ca1b5cd"
      },
      "outputs": [
        {
          "output_type": "execute_result",
          "data": {
            "text/plain": [
              "'...testing link removal... . '"
            ],
            "application/vnd.google.colaboratory.intrinsic+json": {
              "type": "string"
            }
          },
          "metadata": {},
          "execution_count": 11
        }
      ],
      "source": [
        "remove_links('...Testing link removal...@isucpre @isuNews. https://t.co/isunews')"
      ]
    },
    {
      "cell_type": "markdown",
      "metadata": {
        "id": "reNHHyzWmf5Z"
      },
      "source": [
        "### Tokenization\n",
        "\n",
        "Using word_tokenize() from the NLTK library, we can split the sentence into tokens, or words, punctuation points, and other language blocks."
      ]
    },
    {
      "cell_type": "code",
      "execution_count": null,
      "metadata": {
        "colab": {
          "base_uri": "https://localhost:8080/"
        },
        "id": "OYqu5qc5mVpt",
        "outputId": "b2950dd4-564f-4da1-8e0f-5311745cfbbe"
      },
      "outputs": [
        {
          "output_type": "execute_result",
          "data": {
            "text/plain": [
              "[(['a',\n",
              "   'few',\n",
              "   'employees',\n",
              "   'would',\n",
              "   'remain',\n",
              "   'at',\n",
              "   'the',\n",
              "   'oulu',\n",
              "   'plant',\n",
              "   'in',\n",
              "   'support',\n",
              "   'functions',\n",
              "   'for',\n",
              "   'other',\n",
              "   'group',\n",
              "   'units',\n",
              "   '.'],\n",
              "  'neutral'),\n",
              " (['comparable',\n",
              "   'net',\n",
              "   'sales',\n",
              "   'are',\n",
              "   'expected',\n",
              "   'to',\n",
              "   'increase',\n",
              "   'more',\n",
              "   'than',\n",
              "   '10',\n",
              "   '%',\n",
              "   'in',\n",
              "   '2008',\n",
              "   ',',\n",
              "   'in',\n",
              "   'line',\n",
              "   'with',\n",
              "   'group',\n",
              "   'target',\n",
              "   '.'],\n",
              "  'positive'),\n",
              " (['tesla',\n",
              "   'is',\n",
              "   'recalling',\n",
              "   '2,700',\n",
              "   'model',\n",
              "   'x',\n",
              "   'cars',\n",
              "   ':',\n",
              "   '$',\n",
              "   'tsla'],\n",
              "  'negative')]"
            ]
          },
          "metadata": {},
          "execution_count": 12
        }
      ],
      "source": [
        "train_set = [(word_tokenize(remove_links(tweet)), label) for tweet, label in train_set]\n",
        "train_set[:3]\n",
        "\n",
        "test_set = [(word_tokenize(remove_links(tweet)), label) for tweet, label in test_set]\n",
        "test_set[:3]"
      ]
    },
    {
      "cell_type": "markdown",
      "metadata": {
        "id": "6AVwvgL_nJfB"
      },
      "source": [
        "## 3 - Building a Vocabulary of Corpus"
      ]
    },
    {
      "cell_type": "markdown",
      "metadata": {
        "id": "lXiwuWdEnSq_"
      },
      "source": [
        "### 3.1 Vocabulary\n",
        "Next, we have to build a _vocabulary_. This is a effectively a look up table where every unique word in your data set has a corresponding _index_ (an integer). A one-hot vector is a vector where all of the elements are 0, except one, which is 1, and dimensionality is the total number of unique words in your vocabulary, commonly denoted by $V$.\n",
        "\n",
        "![](https://github.com/bentrevett/pytorch-sentiment-analysis/blob/master/assets/sentiment5.png?raw=1)\n",
        "\n",
        "In this exercise, we will create a list of unique words and use that list and its indices to create a dictionary of mapping.\n",
        "\n",
        "The list will start with the 3 tokens \"PAD\", \"SOS\", \"EOS\".\n",
        "\n",
        "Since we will input fixed-size text to the model, we will have to pad some tweets to increase their length. The token for padding is \"PAD\".\n",
        "\n",
        "\"SOS\" and \"EOS\" are short for \"start of sentence\" and \"end of sentence\" respectively. They are tokens used to identify the beginning and ending of each sentence in order to train the model. As will be showm, they will be inserted at the beginning and end of every tweet."
      ]
    },
    {
      "cell_type": "markdown",
      "metadata": {
        "id": "an9ODpHEok-R"
      },
      "source": [
        "### **index2word** and **word2index** will act as our vocabulary which can be used to encode all tweets"
      ]
    },
    {
      "cell_type": "code",
      "execution_count": null,
      "metadata": {
        "id": "igU5fi3smvvC"
      },
      "outputs": [],
      "source": [
        "index2word = [\"<PAD>\", \"<SOS>\", \"<EOS>\"]\n",
        "\n",
        "for ds in [train_set, test_set]:\n",
        "    for tweet, label in ds:\n",
        "        for token in tweet:\n",
        "            if token not in index2word:\n",
        "                index2word.append(token)"
      ]
    },
    {
      "cell_type": "code",
      "execution_count": null,
      "metadata": {
        "colab": {
          "base_uri": "https://localhost:8080/",
          "height": 36
        },
        "id": "ouMRt5RboC3V",
        "outputId": "ade9c3a9-c84d-4f1c-b6ba-68362ce96b1b"
      },
      "outputs": [
        {
          "output_type": "execute_result",
          "data": {
            "text/plain": [
              "'area'"
            ],
            "application/vnd.google.colaboratory.intrinsic+json": {
              "type": "string"
            }
          },
          "metadata": {},
          "execution_count": 14
        }
      ],
      "source": [
        "index2word[5]"
      ]
    },
    {
      "cell_type": "code",
      "execution_count": null,
      "metadata": {
        "id": "LFW_TNBMoErW"
      },
      "outputs": [],
      "source": [
        "word2index = {token: idx for idx, token in enumerate(index2word)}"
      ]
    },
    {
      "cell_type": "code",
      "execution_count": null,
      "metadata": {
        "colab": {
          "base_uri": "https://localhost:8080/"
        },
        "id": "IS5d5Gz9oIGt",
        "outputId": "910d3076-7c32-42b6-d65e-cb52ee3b209f"
      },
      "outputs": [
        {
          "output_type": "execute_result",
          "data": {
            "text/plain": [
              "5"
            ]
          },
          "metadata": {},
          "execution_count": 16
        }
      ],
      "source": [
        "word2index[\"area\"]"
      ]
    },
    {
      "cell_type": "markdown",
      "metadata": {
        "id": "3ZqR56L1oXsO"
      },
      "source": [
        "### 3.2 Encode tweet and labels"
      ]
    },
    {
      "cell_type": "markdown",
      "metadata": {
        "id": "dSvwPkO2oynK"
      },
      "source": [
        "We cannot leave the labels in text form. So, we must encode them using 0 (negative), 1 (neutral), and 2 (positive) respectively.\n",
        "\n",
        "To pad, we must select a sequence length. This length should cover the majority of tweets."
      ]
    },
    {
      "cell_type": "code",
      "execution_count": null,
      "metadata": {
        "id": "Lj2eg7Hrpisy"
      },
      "outputs": [],
      "source": [
        "def label_map(label):\n",
        "    if label == \"negative\":\n",
        "        return 0\n",
        "    elif label == \"neutral\":\n",
        "        return 1\n",
        "    else: #positive\n",
        "        return 2"
      ]
    },
    {
      "cell_type": "markdown",
      "metadata": {
        "id": "-bX7xHcq_OMm"
      },
      "source": [
        "Twitter currently limits tweets to 280 characters, which is up to 40-70 words. However, the average tweet length per user is 28 character, which is up to 10 words.\n",
        "\n",
        "With that in mind, we will choose 40 as our average sequence length"
      ]
    },
    {
      "cell_type": "code",
      "execution_count": null,
      "metadata": {
        "id": "UaxHmcAloIkc"
      },
      "outputs": [],
      "source": [
        "seq_length = 40"
      ]
    },
    {
      "cell_type": "markdown",
      "metadata": {
        "id": "T8KglfVMp6ra"
      },
      "source": [
        "Padding is performed when a tweet is shorter than 40 tokens, and truncating is used when a tweet is longer than 40 tokens. In the same encoding method, we also insert the PAD, SOS, and EOS tokens."
      ]
    },
    {
      "cell_type": "code",
      "execution_count": null,
      "metadata": {
        "id": "WAfrGXsYpU5U"
      },
      "outputs": [],
      "source": [
        "def encode_and_pad(tweet, length):\n",
        "    sos = [word2index[\"<SOS>\"]]\n",
        "    eos = [word2index[\"<EOS>\"]]\n",
        "    pad = [word2index[\"<PAD>\"]]\n",
        "\n",
        "    if len(tweet) < length - 2: # -2 for SOS and EOS\n",
        "        n_pads = length - 2 - len(tweet)\n",
        "        encoded = [word2index[w] for w in tweet]\n",
        "        return sos + encoded + eos + pad * n_pads\n",
        "    else: # tweet is longer than possible; truncating\n",
        "        encoded = [word2index[w] for w in tweet]\n",
        "        truncated = encoded[:length - 2]\n",
        "        return sos + truncated + eos"
      ]
    },
    {
      "cell_type": "code",
      "execution_count": null,
      "metadata": {
        "id": "-W8nV9NUpc99"
      },
      "outputs": [],
      "source": [
        "train_encoded = [(encode_and_pad(tweet, seq_length), label_map(label)) for tweet, label in train_set]"
      ]
    },
    {
      "cell_type": "code",
      "execution_count": null,
      "metadata": {
        "id": "Ue2i6X1IplS5"
      },
      "outputs": [],
      "source": [
        "test_encoded = [(encode_and_pad(tweet, seq_length), label_map(label)) for tweet, label in test_set]"
      ]
    },
    {
      "cell_type": "code",
      "execution_count": null,
      "metadata": {
        "colab": {
          "base_uri": "https://localhost:8080/"
        },
        "id": "ZiQDhGoipn3P",
        "outputId": "f7fcf68d-14b6-44bc-835a-1a7681fef4bc"
      },
      "outputs": [
        {
          "output_type": "stream",
          "name": "stdout",
          "text": [
            "([1, 3, 4, 5, 6, 3, 7, 8, 9, 10, 11, 12, 13, 14, 12, 15, 16, 3, 17, 18, 19, 5, 9, 20, 21, 12, 22, 23, 20, 24, 25, 6, 3, 26, 27, 28, 29, 30, 2, 0], 1)\n",
            "([1, 31, 32, 33, 34, 35, 36, 37, 38, 39, 30, 2, 0, 0, 0, 0, 0, 0, 0, 0, 0, 0, 0, 0, 0, 0, 0, 0, 0, 0, 0, 0, 0, 0, 0, 0, 0, 0, 0, 0], 1)\n",
            "([1, 40, 41, 42, 43, 44, 45, 33, 41, 46, 2, 0, 0, 0, 0, 0, 0, 0, 0, 0, 0, 0, 0, 0, 0, 0, 0, 0, 0, 0, 0, 0, 0, 0, 0, 0, 0, 0, 0, 0], 2)\n",
            "([1, 47, 48, 23, 49, 50, 51, 52, 53, 3, 54, 55, 6, 56, 57, 30, 2, 0, 0, 0, 0, 0, 0, 0, 0, 0, 0, 0, 0, 0, 0, 0, 0, 0, 0, 0, 0, 0, 0, 0], 1)\n",
            "([1, 41, 58, 59, 60, 61, 2, 0, 0, 0, 0, 0, 0, 0, 0, 0, 0, 0, 0, 0, 0, 0, 0, 0, 0, 0, 0, 0, 0, 0, 0, 0, 0, 0, 0, 0, 0, 0, 0, 0], 2)\n"
          ]
        }
      ],
      "source": [
        "for i in train_encoded[:5]:\n",
        "    print(i)"
      ]
    },
    {
      "cell_type": "markdown",
      "metadata": {
        "id": "d-i3rd8YqEdY"
      },
      "source": [
        "Notice that the tweets always begin with 1, which stands for SOS, and end with 2, which is EOS. If the tweet is shorter than 40 tokens, it is then padded with 0's, which is the padding. Also, notice that the labels are numerical as well.\n",
        "\n",
        "Now, the data is preprocessed and encoded, we can go ahead and create PyTorch Datasets and DataLoaders"
      ]
    },
    {
      "cell_type": "markdown",
      "metadata": {
        "id": "VyiugDhlqQxh"
      },
      "source": [
        "### 3.3 - Creat PyTorch Dataloaders"
      ]
    },
    {
      "cell_type": "code",
      "execution_count": null,
      "metadata": {
        "id": "QNblm-8jqOpH"
      },
      "outputs": [],
      "source": [
        "batch_size = 50\n",
        "\n",
        "train_x = np.array([tweet for tweet, label in train_encoded])\n",
        "train_y = np.array([label for tweet, label in train_encoded])\n",
        "test_x = np.array([tweet for tweet, label in test_encoded])\n",
        "test_y = np.array([label for tweet, label in test_encoded])\n",
        "\n",
        "train_ds = TensorDataset(torch.from_numpy(train_x), torch.from_numpy(train_y))\n",
        "test_ds = TensorDataset(torch.from_numpy(test_x), torch.from_numpy(test_y))\n",
        "\n",
        "train_dl = DataLoader(train_ds, shuffle=True, batch_size=batch_size, drop_last=True)\n",
        "test_dl = DataLoader(test_ds, shuffle=True, batch_size=batch_size, drop_last=True)"
      ]
    },
    {
      "cell_type": "markdown",
      "metadata": {
        "id": "UnSQKFFxqmM_"
      },
      "source": [
        "## 4 Vanilla RNN Architecture\n",
        "The three layers of the Vanilla RNN are an _embedding_ layer, our RNN, and a _linear_ layer. All layers have their parameters initialized to random values, unless explicitly specified.\n",
        "\n",
        "The embedding layer is used to transform our sparse one-hot vector (sparse as most of the elements are 0) into a dense embedding vector (dense as the dimensionality is a lot smaller and all the elements are real numbers). This embedding layer is simply a single fully connected layer. As well as reducing the dimensionality of the input to the RNN, there is the theory that words which have similar impact on the sentiment of the review are mapped close together in this dense vector space. The RNN layer is our RNN which takes in our dense vector and the previous hidden state $h_{t-1}$, which it uses to calculate the next hidden state, $h_t$. Finally, the linear layer takes the final hidden state and feeds it through a fully connected layer, $f(h_T)$, transforming it to the correct output dimension.\n",
        "\n",
        "![](https://github.com/bentrevett/pytorch-sentiment-analysis/blob/master/assets/sentiment7.png?raw=1)\n",
        "\n",
        "The `forward` method is called when we feed examples into our model.\n",
        "\n",
        "Each batch, `text`, is a tensor of size _**[sentence length, batch size]**_. That is a batch of sentences, each having each word converted into a one-hot vector.\n",
        "\n",
        "You may notice that this tensor should have another dimension due to the one-hot vectors, however PyTorch conveniently stores a one-hot vector as it's index value, i.e. the tensor representing a sentence is just a tensor of the indexes for each token in that sentence. The act of converting a list of tokens into a list of indexes is commonly called *numericalizing*.\n",
        "\n",
        "The input batch is then passed through the embedding layer to get `embedded`, which gives us a dense vector representation of our sentences. `embedded` is a tensor of size _**[sentence length, batch size, embedding dim]**_. `embedded` is then fed into the RNN. In some frameworks you must feed the initial hidden state, $h_0$, into the RNN, however in PyTorch, if no initial hidden state is passed as an argument it defaults to a tensor of all zeros.\n",
        "\n",
        "The RNN returns 2 tensors, `output` of size _**[sentence length, batch size, hidden dim]**_ and `hidden` of size _**[1, batch size, hidden dim]**_. `output` is the concatenation of the hidden state from every time step, whereas `hidden` is simply the final hidden state. We verify this using the `assert` statement. Note the `squeeze` method, which is used to remove a dimension of size 1.\n",
        "\n",
        "Finally, we feed the last hidden state, `hidden`, through the linear layer, `fc`, to produce a prediction.\n",
        "\n",
        "**Note:** To use an LSTM instead of the standard RNN, we use `nn.LSTM` instead of `nn.RNN`. Also, note that the LSTM returns the `output` and a tuple of the final `hidden` state and the final `cell` state, whereas the standard RNN only returned the `output` and final `hidden` state."
      ]
    },
    {
      "cell_type": "markdown",
      "metadata": {
        "id": "TOuQ-v1ttchN"
      },
      "source": [
        "# 4.1 RNN Model definition"
      ]
    },
    {
      "cell_type": "code",
      "execution_count": null,
      "metadata": {
        "id": "vZ9CCPzttchN"
      },
      "outputs": [],
      "source": [
        "import torch\n",
        "import torch.nn as nn\n",
        "import numpy as np\n",
        "\n",
        "class VanillaRNN_SentimentAnalysis(nn.Module):\n",
        "    def __init__(self, vocab_size, embedding_dim, hidden_dim, dropout, pretrained_embeddings):\n",
        "        super(VanillaRNN_SentimentAnalysis,self).__init__()\n",
        "\n",
        "        # Initialize the embedding layer with pre-trained word vectors\n",
        "        self.embedding = nn.Embedding.from_pretrained(pretrained_embeddings)\n",
        "\n",
        "        # The RNN layer takes in the embedding size and the hidden vector size.\n",
        "        self.rnn = nn.RNN(embedding_dim, hidden_dim, batch_first=True)\n",
        "\n",
        "        # We use dropout before the final layer to improve with regularization.\n",
        "        self.dropout = nn.Dropout(dropout)\n",
        "\n",
        "        # The fully-connected layer takes in the hidden dim of the RNN and\n",
        "        # outputs a 3x1 vector of the class scores.\n",
        "        self.fc = nn.Linear(hidden_dim, 3)\n",
        "\n",
        "    def forward(self, x, hidden):\n",
        "        # The input is transformed to embeddings by passing it to the embedding layer.\n",
        "        embs = self.embedding(x)\n",
        "\n",
        "        # The embedded inputs are fed to the RNN alongside the previous hidden state.\n",
        "        out, hidden = self.rnn(embs, hidden)\n",
        "\n",
        "        # Dropout is applied to the output and fed to the FC layer.\n",
        "        out = self.dropout(out)\n",
        "\n",
        "        # The last hidden state is extracted for classification.\n",
        "        out = self.fc(out[:, -1, :])\n",
        "\n",
        "        return out, hidden\n",
        "\n",
        "    def init_hidden(self, batch_size):\n",
        "        # Initialize the hidden state.\n",
        "        return torch.zeros(1, batch_size, 32)\n"
      ]
    },
    {
      "cell_type": "markdown",
      "metadata": {
        "id": "TuAs2tUqsA-v"
      },
      "source": [
        "### 4.2 Pretrained Word Embeddings\n",
        "\n",
        "Instead of having our word embeddings initialized randomly in our Vanilla RNN architecture, they are initialized with pre-trained vectors.\n",
        "\n",
        "We get these vectors simply by specifying which vectors we want and passing it as an argument to `build_vocab`. `TorchText` handles downloading the vectors and associating them with the correct words in our vocabulary.\n",
        "\n",
        "Here, we'll be using the `\"glove.twitter.27B.100d\" vectors\"`, particularly because they are more useful for our dataset, which is in form of tweets.\n",
        "\n",
        " `glove` is the algorithm used to calculate the vectors, go [here](https://nlp.stanford.edu/projects/glove/) for more. `27B` indicates these vectors were trained on 27 billion tokens and `100d` indicates these vectors are 100-dimensional.\n",
        "\n",
        "The theory is that these pre-trained vectors already have words with similar semantic meaning close together in vector space, e.g. \"terrible\", \"awful\", \"dreadful\" are nearby. This gives our embedding layer a good initialization as it does not have to learn these relations from scratch.\n",
        "\n",
        "Note: the embedding files tend to be large and they take awhile to download the first time through. I suggest only running this cell once."
      ]
    },
    {
      "cell_type": "code",
      "execution_count": null,
      "metadata": {
        "id": "DuNxQrgItchN"
      },
      "outputs": [],
      "source": [
        "#!pip3 install torchtext"
      ]
    },
    {
      "cell_type": "code",
      "execution_count": null,
      "metadata": {
        "id": "YqTD_h49tchO",
        "colab": {
          "base_uri": "https://localhost:8080/"
        },
        "outputId": "b9be208f-bf05-4900-81d3-6007a8acba1a"
      },
      "outputs": [
        {
          "output_type": "stream",
          "name": "stderr",
          "text": [
            ".vector_cache/glove.twitter.27B.zip: 1.52GB [05:24, 4.68MB/s]                            \n",
            "100%|█████████▉| 1193513/1193514 [01:19<00:00, 15080.29it/s]\n"
          ]
        }
      ],
      "source": [
        "import torchtext\n",
        "import torchtext.vocab as vocab\n",
        "\n",
        "# Download GloVe embeddings\n",
        "#glove = vocab.GloVe(name='twitter.27B', dim=100)  # 100-dimensional embeddings\n",
        "\n",
        "vocab_size = len(word2index)\n",
        "embedding_dim = 100  # Match the dimension of the GloVe embeddings\n",
        "hidden_dim = 32\n",
        "dropout = 0.45  # Adjust dropout as needed\n",
        "\n",
        "# Create the embedding matrix with pre-trained word vectors\n",
        "pretrained_embeddings = torch.FloatTensor(vocab_size, embedding_dim)\n",
        "for word, index in word2index.items():\n",
        "    if word in glove.stoi:\n",
        "        pretrained_embeddings[index] = glove.vectors[glove.stoi[word]]\n",
        "    else:\n",
        "        pretrained_embeddings[index] = torch.zeros(embedding_dim)  # Use zeros for OOV words"
      ]
    },
    {
      "cell_type": "markdown",
      "metadata": {
        "id": "cdsvSO_HFux7"
      },
      "source": [
        "### 4.3\n",
        "Utility Routines for running the models\n",
        "*count_parameters* a function that will tell us how many trainable parameters our model has so we can compare the number of parameters across different models."
      ]
    },
    {
      "cell_type": "code",
      "execution_count": null,
      "metadata": {
        "id": "NJIJbWcWHJ02"
      },
      "outputs": [],
      "source": [
        "def count_parameters(model):\n",
        "    return sum(p.numel() for p in model.parameters() if p.requires_grad)"
      ]
    },
    {
      "cell_type": "markdown",
      "metadata": {
        "id": "FjwAuznWHr6l"
      },
      "source": [
        "*epoch_time* is a function to tell us how long an epoch takes to compare training times between models."
      ]
    },
    {
      "cell_type": "code",
      "execution_count": null,
      "metadata": {
        "id": "JaDhtT9aHuXh"
      },
      "outputs": [],
      "source": [
        "import time\n",
        "\n",
        "def epoch_time(start_time, end_time):\n",
        "    elapsed_time = end_time - start_time\n",
        "    elapsed_mins = int(elapsed_time / 60)\n",
        "    elapsed_secs = int(elapsed_time - (elapsed_mins * 60))\n",
        "    return elapsed_mins, elapsed_secs"
      ]
    },
    {
      "cell_type": "markdown",
      "metadata": {
        "id": "4ShoNamW1GgK"
      },
      "source": [
        "### 4.4 Train Vanilla RNN Model"
      ]
    },
    {
      "cell_type": "code",
      "execution_count": null,
      "metadata": {
        "id": "V_b5yz6K0K03"
      },
      "outputs": [],
      "source": [
        "# Instantiate model with pre-trained embeddings\n",
        "model1 = VanillaRNN_SentimentAnalysis(vocab_size, embedding_dim, hidden_dim, dropout, pretrained_embeddings)\n",
        "\n",
        "model1 = model1.to(device)\n",
        "criterion = nn.CrossEntropyLoss()\n",
        "optimizer = torch.optim.Adam(model1.parameters(), lr = 3e-4)"
      ]
    },
    {
      "cell_type": "code",
      "execution_count": null,
      "metadata": {
        "colab": {
          "base_uri": "https://localhost:8080/"
        },
        "id": "CpEM1K8FHeWF",
        "outputId": "6c8746d0-adfe-474a-df57-7d225ac68d8a"
      },
      "outputs": [
        {
          "output_type": "stream",
          "name": "stdout",
          "text": [
            "The model has 4,387 trainable parameters\n"
          ]
        }
      ],
      "source": [
        "print(f'The model has {count_parameters(model1):,} trainable parameters')"
      ]
    },
    {
      "cell_type": "code",
      "execution_count": null,
      "metadata": {
        "colab": {
          "base_uri": "https://localhost:8080/",
          "height": 1000
        },
        "id": "0EhAHY5cqwSb",
        "outputId": "2b624338-8dc0-4774-9252-ad00e9b3683f"
      },
      "outputs": [
        {
          "output_type": "stream",
          "name": "stdout",
          "text": [
            "Epoch [1/100] | Epoch Time: 0m 1s -- Loss: 1.0155 - Accuracy: 53.20%\n",
            "Epoch [2/100] | Epoch Time: 0m 0s -- Loss: 0.9868 - Accuracy: 53.61%\n",
            "Epoch [3/100] | Epoch Time: 0m 0s -- Loss: 0.9845 - Accuracy: 53.59%\n",
            "Epoch [4/100] | Epoch Time: 0m 0s -- Loss: 0.9828 - Accuracy: 53.63%\n",
            "Epoch [5/100] | Epoch Time: 0m 0s -- Loss: 0.9840 - Accuracy: 53.74%\n",
            "Epoch [6/100] | Epoch Time: 0m 0s -- Loss: 0.9835 - Accuracy: 53.59%\n",
            "Epoch [7/100] | Epoch Time: 0m 0s -- Loss: 0.9808 - Accuracy: 53.81%\n",
            "Epoch [8/100] | Epoch Time: 0m 0s -- Loss: 0.9827 - Accuracy: 53.76%\n",
            "Epoch [9/100] | Epoch Time: 0m 1s -- Loss: 0.9817 - Accuracy: 53.76%\n",
            "Epoch [10/100] | Epoch Time: 0m 1s -- Loss: 0.9790 - Accuracy: 53.94%\n",
            "Epoch [11/100] | Epoch Time: 0m 1s -- Loss: 0.9764 - Accuracy: 53.96%\n",
            "Epoch [12/100] | Epoch Time: 0m 1s -- Loss: 0.9785 - Accuracy: 53.89%\n",
            "Epoch [13/100] | Epoch Time: 0m 0s -- Loss: 0.9774 - Accuracy: 53.81%\n",
            "Epoch [14/100] | Epoch Time: 0m 0s -- Loss: 0.9783 - Accuracy: 53.81%\n",
            "Epoch [15/100] | Epoch Time: 0m 0s -- Loss: 0.9776 - Accuracy: 54.09%\n",
            "Epoch [16/100] | Epoch Time: 0m 0s -- Loss: 0.9762 - Accuracy: 53.70%\n",
            "Epoch [17/100] | Epoch Time: 0m 0s -- Loss: 0.9731 - Accuracy: 54.00%\n",
            "Epoch [18/100] | Epoch Time: 0m 0s -- Loss: 0.9741 - Accuracy: 53.96%\n",
            "Epoch [19/100] | Epoch Time: 0m 0s -- Loss: 0.9724 - Accuracy: 54.02%\n",
            "Epoch [20/100] | Epoch Time: 0m 0s -- Loss: 0.9609 - Accuracy: 54.43%\n",
            "Epoch [21/100] | Epoch Time: 0m 0s -- Loss: 0.9046 - Accuracy: 58.56%\n",
            "Epoch [22/100] | Epoch Time: 0m 0s -- Loss: 0.8819 - Accuracy: 61.61%\n",
            "Epoch [23/100] | Epoch Time: 0m 0s -- Loss: 0.8690 - Accuracy: 62.15%\n",
            "Epoch [24/100] | Epoch Time: 0m 0s -- Loss: 0.8624 - Accuracy: 63.14%\n",
            "Epoch [25/100] | Epoch Time: 0m 0s -- Loss: 0.8621 - Accuracy: 63.03%\n",
            "Epoch [26/100] | Epoch Time: 0m 1s -- Loss: 0.8593 - Accuracy: 63.25%\n",
            "Epoch [27/100] | Epoch Time: 0m 1s -- Loss: 0.8504 - Accuracy: 63.03%\n",
            "Epoch [28/100] | Epoch Time: 0m 1s -- Loss: 0.8520 - Accuracy: 63.85%\n",
            "Epoch [29/100] | Epoch Time: 0m 0s -- Loss: 0.8512 - Accuracy: 63.66%\n",
            "Epoch [30/100] | Epoch Time: 0m 0s -- Loss: 0.8478 - Accuracy: 63.98%\n",
            "Epoch [31/100] | Epoch Time: 0m 0s -- Loss: 0.8432 - Accuracy: 64.00%\n",
            "Epoch [32/100] | Epoch Time: 0m 0s -- Loss: 0.8410 - Accuracy: 63.85%\n",
            "Epoch [33/100] | Epoch Time: 0m 0s -- Loss: 0.8409 - Accuracy: 64.34%\n",
            "Epoch [34/100] | Epoch Time: 0m 0s -- Loss: 0.8352 - Accuracy: 64.60%\n",
            "Epoch [35/100] | Epoch Time: 0m 0s -- Loss: 0.8307 - Accuracy: 64.49%\n",
            "Epoch [36/100] | Epoch Time: 0m 0s -- Loss: 0.8269 - Accuracy: 64.52%\n",
            "Epoch [37/100] | Epoch Time: 0m 0s -- Loss: 0.8297 - Accuracy: 64.88%\n",
            "Epoch [38/100] | Epoch Time: 0m 0s -- Loss: 0.8212 - Accuracy: 64.52%\n",
            "Epoch [39/100] | Epoch Time: 0m 0s -- Loss: 0.8194 - Accuracy: 64.95%\n",
            "Epoch [40/100] | Epoch Time: 0m 0s -- Loss: 0.8193 - Accuracy: 65.55%\n",
            "Epoch [41/100] | Epoch Time: 0m 0s -- Loss: 0.8113 - Accuracy: 65.40%\n",
            "Epoch [42/100] | Epoch Time: 0m 1s -- Loss: 0.8104 - Accuracy: 65.85%\n",
            "Epoch [43/100] | Epoch Time: 0m 1s -- Loss: 0.8103 - Accuracy: 65.74%\n",
            "Epoch [44/100] | Epoch Time: 0m 1s -- Loss: 0.8082 - Accuracy: 66.09%\n",
            "Epoch [45/100] | Epoch Time: 0m 1s -- Loss: 0.8021 - Accuracy: 66.28%\n",
            "Epoch [46/100] | Epoch Time: 0m 0s -- Loss: 0.8068 - Accuracy: 65.98%\n",
            "Epoch [47/100] | Epoch Time: 0m 0s -- Loss: 0.8016 - Accuracy: 66.58%\n",
            "Epoch [48/100] | Epoch Time: 0m 0s -- Loss: 0.7952 - Accuracy: 67.01%\n",
            "Epoch [49/100] | Epoch Time: 0m 0s -- Loss: 0.7991 - Accuracy: 66.69%\n",
            "Epoch [50/100] | Epoch Time: 0m 0s -- Loss: 0.7952 - Accuracy: 66.71%\n",
            "Epoch [51/100] | Epoch Time: 0m 0s -- Loss: 0.7984 - Accuracy: 66.77%\n",
            "Epoch [52/100] | Epoch Time: 0m 0s -- Loss: 0.7910 - Accuracy: 67.33%\n",
            "Epoch [53/100] | Epoch Time: 0m 0s -- Loss: 0.7942 - Accuracy: 67.20%\n",
            "Epoch [54/100] | Epoch Time: 0m 0s -- Loss: 0.7991 - Accuracy: 66.71%\n",
            "Epoch [55/100] | Epoch Time: 0m 0s -- Loss: 0.7865 - Accuracy: 67.78%\n",
            "Epoch [56/100] | Epoch Time: 0m 0s -- Loss: 0.7900 - Accuracy: 67.33%\n",
            "Epoch [57/100] | Epoch Time: 0m 0s -- Loss: 0.7834 - Accuracy: 68.00%\n",
            "Epoch [58/100] | Epoch Time: 0m 0s -- Loss: 0.7876 - Accuracy: 68.04%\n",
            "Epoch [59/100] | Epoch Time: 0m 1s -- Loss: 0.7776 - Accuracy: 68.26%\n",
            "Epoch [60/100] | Epoch Time: 0m 1s -- Loss: 0.7810 - Accuracy: 68.34%\n",
            "Epoch [61/100] | Epoch Time: 0m 1s -- Loss: 0.7757 - Accuracy: 68.45%\n",
            "Epoch [62/100] | Epoch Time: 0m 0s -- Loss: 0.7772 - Accuracy: 68.34%\n",
            "Epoch [63/100] | Epoch Time: 0m 0s -- Loss: 0.7722 - Accuracy: 68.39%\n",
            "Epoch [64/100] | Epoch Time: 0m 0s -- Loss: 0.7845 - Accuracy: 68.19%\n",
            "Epoch [65/100] | Epoch Time: 0m 0s -- Loss: 0.7718 - Accuracy: 68.75%\n",
            "Epoch [66/100] | Epoch Time: 0m 0s -- Loss: 0.7751 - Accuracy: 68.95%\n",
            "Epoch [67/100] | Epoch Time: 0m 0s -- Loss: 0.7749 - Accuracy: 68.67%\n",
            "Epoch [68/100] | Epoch Time: 0m 0s -- Loss: 0.7698 - Accuracy: 68.69%\n",
            "Epoch [69/100] | Epoch Time: 0m 0s -- Loss: 0.7622 - Accuracy: 69.38%\n",
            "Epoch [70/100] | Epoch Time: 0m 0s -- Loss: 0.7643 - Accuracy: 69.16%\n",
            "Epoch [71/100] | Epoch Time: 0m 0s -- Loss: 0.7658 - Accuracy: 69.51%\n",
            "Epoch [72/100] | Epoch Time: 0m 0s -- Loss: 0.7573 - Accuracy: 70.28%\n",
            "Epoch [73/100] | Epoch Time: 0m 0s -- Loss: 0.7680 - Accuracy: 68.99%\n",
            "Epoch [74/100] | Epoch Time: 0m 0s -- Loss: 0.7583 - Accuracy: 69.81%\n",
            "Epoch [75/100] | Epoch Time: 0m 0s -- Loss: 0.7589 - Accuracy: 69.91%\n",
            "Epoch [76/100] | Epoch Time: 0m 1s -- Loss: 0.7558 - Accuracy: 70.28%\n",
            "Epoch [77/100] | Epoch Time: 0m 1s -- Loss: 0.7551 - Accuracy: 69.91%\n",
            "Epoch [78/100] | Epoch Time: 0m 1s -- Loss: 0.7579 - Accuracy: 69.63%\n",
            "Epoch [79/100] | Epoch Time: 0m 0s -- Loss: 0.7561 - Accuracy: 69.91%\n",
            "Epoch [80/100] | Epoch Time: 0m 0s -- Loss: 0.7531 - Accuracy: 70.19%\n",
            "Epoch [81/100] | Epoch Time: 0m 0s -- Loss: 0.7498 - Accuracy: 70.60%\n",
            "Epoch [82/100] | Epoch Time: 0m 0s -- Loss: 0.7569 - Accuracy: 69.94%\n",
            "Epoch [83/100] | Epoch Time: 0m 0s -- Loss: 0.7506 - Accuracy: 70.26%\n",
            "Epoch [84/100] | Epoch Time: 0m 0s -- Loss: 0.7490 - Accuracy: 70.15%\n",
            "Epoch [85/100] | Epoch Time: 0m 0s -- Loss: 0.7446 - Accuracy: 70.52%\n",
            "Epoch [86/100] | Epoch Time: 0m 0s -- Loss: 0.7377 - Accuracy: 70.43%\n",
            "Epoch [87/100] | Epoch Time: 0m 0s -- Loss: 0.7349 - Accuracy: 71.18%\n",
            "Epoch [88/100] | Epoch Time: 0m 0s -- Loss: 0.7543 - Accuracy: 70.00%\n",
            "Epoch [89/100] | Epoch Time: 0m 0s -- Loss: 0.7324 - Accuracy: 71.89%\n",
            "Epoch [90/100] | Epoch Time: 0m 0s -- Loss: 0.7302 - Accuracy: 71.70%\n",
            "Epoch [91/100] | Epoch Time: 0m 0s -- Loss: 0.7256 - Accuracy: 72.13%\n",
            "Epoch [92/100] | Epoch Time: 0m 0s -- Loss: 0.7466 - Accuracy: 71.03%\n",
            "Epoch [93/100] | Epoch Time: 0m 1s -- Loss: 0.7302 - Accuracy: 71.87%\n",
            "Epoch [94/100] | Epoch Time: 0m 1s -- Loss: 0.7314 - Accuracy: 71.89%\n",
            "Epoch [95/100] | Epoch Time: 0m 1s -- Loss: 0.7345 - Accuracy: 71.05%\n",
            "Epoch [96/100] | Epoch Time: 0m 0s -- Loss: 0.7314 - Accuracy: 71.59%\n",
            "Epoch [97/100] | Epoch Time: 0m 0s -- Loss: 0.7221 - Accuracy: 72.26%\n",
            "Epoch [98/100] | Epoch Time: 0m 0s -- Loss: 0.7238 - Accuracy: 71.85%\n",
            "Epoch [99/100] | Epoch Time: 0m 0s -- Loss: 0.7216 - Accuracy: 72.06%\n",
            "Epoch [100/100] | Epoch Time: 0m 0s -- Loss: 0.7268 - Accuracy: 71.85%\n"
          ]
        },
        {
          "output_type": "display_data",
          "data": {
            "text/plain": [
              "<Figure size 1000x500 with 2 Axes>"
            ],
            "image/png": "[encoded data removed]"
          },
          "metadata": {}
        }
      ],
      "source": [
        "import torch\n",
        "import torch.nn as nn\n",
        "import torch.optim as optim\n",
        "\n",
        "epochs = 100\n",
        "losses = []\n",
        "accuracies = []\n",
        "\n",
        "for e in range(epochs):\n",
        "    batch_size = 50\n",
        "    h0 = model1.init_hidden(batch_size)\n",
        "    h0 = h0.to(device)\n",
        "\n",
        "    total_loss = 0\n",
        "    correct_predictions = 0\n",
        "    total_samples = 0\n",
        "\n",
        "    start_time = time.time()\n",
        "    for batch_idx, batch in enumerate(train_dl):\n",
        "        input = batch[0].to(device)\n",
        "        target = batch[1].to(device)\n",
        "\n",
        "        optimizer.zero_grad()\n",
        "\n",
        "        with torch.set_grad_enabled(True):\n",
        "\n",
        "            out, hidden = model1(input, h0)\n",
        "            loss = criterion(out, target)\n",
        "            loss.backward()\n",
        "            optimizer.step()\n",
        "\n",
        "            total_loss += loss.item()\n",
        "\n",
        "            # Calculate accuracy\n",
        "            _, predicted = torch.max(out, 1)\n",
        "            correct_predictions += (predicted == target).sum().item()\n",
        "            total_samples += target.size(0)\n",
        "\n",
        "    end_time = time.time()\n",
        "    epoch_mins, epoch_secs = epoch_time(start_time, end_time)\n",
        "    losses.append(total_loss / (batch_idx + 1))\n",
        "    accuracy = correct_predictions / total_samples\n",
        "    accuracies.append(accuracy)\n",
        "\n",
        "    # Print progress after each epoch\n",
        "    print(f'Epoch [{e + 1}/{epochs}] | Epoch Time: {epoch_mins}m {epoch_secs}s -- Loss: {losses[-1]:.4f} - Accuracy: {accuracy * 100:.2f}%')\n",
        "\n",
        "# Plot loss and accuracy\n",
        "plt.figure(figsize=(10, 5))\n",
        "plt.subplot(1, 2, 1)\n",
        "plt.plot(losses)\n",
        "plt.xlabel('Epochs')\n",
        "plt.ylabel('Loss')\n",
        "plt.title('Training Loss')\n",
        "\n",
        "plt.subplot(1, 2, 2)\n",
        "plt.plot(accuracies)\n",
        "plt.xlabel('Epochs')\n",
        "plt.ylabel('Accuracy')\n",
        "plt.title('Training Accuracy')\n",
        "\n",
        "plt.tight_layout()\n",
        "plt.show()"
      ]
    },
    {
      "cell_type": "markdown",
      "metadata": {
        "id": "oX7YY5SQ1JD0"
      },
      "source": [
        "### 4.5 Test Vanilla RNN Model"
      ]
    },
    {
      "cell_type": "code",
      "execution_count": null,
      "metadata": {
        "colab": {
          "base_uri": "https://localhost:8080/"
        },
        "id": "K53iQfpa1KNL",
        "outputId": "f6556609-1160-4426-d3ee-86a079ac567b"
      },
      "outputs": [
        {
          "output_type": "stream",
          "name": "stdout",
          "text": [
            "Test Accuracy: 64.35%\n"
          ]
        },
        {
          "output_type": "execute_result",
          "data": {
            "text/plain": [
              "VanillaRNN_SentimentAnalysis(\n",
              "  (embedding): Embedding(12991, 100)\n",
              "  (rnn): RNN(100, 32, batch_first=True)\n",
              "  (dropout): Dropout(p=0.45, inplace=False)\n",
              "  (fc): Linear(in_features=32, out_features=3, bias=True)\n",
              ")"
            ]
          },
          "metadata": {},
          "execution_count": 33
        }
      ],
      "source": [
        "# Initialize variables to track test accuracy and loss\n",
        "test_loss = 0\n",
        "correct_predictions = 0\n",
        "total_samples = 0\n",
        "\n",
        "# Set the model in evaluation mode\n",
        "model1.eval()\n",
        "\n",
        "with torch.no_grad():\n",
        "    for batch_idx, batch in enumerate(test_dl):\n",
        "        input = batch[0].to(device)\n",
        "        target = batch[1].to(device)\n",
        "\n",
        "        # Forward pass\n",
        "        out, hidden = model1(input, h0)\n",
        "\n",
        "        # Calculate accuracy\n",
        "        _, predicted = torch.max(out, 1)\n",
        "        correct_predictions += (predicted == target).sum().item()\n",
        "        total_samples += target.size(0)\n",
        "\n",
        "# Calculate test accuracy\n",
        "test_accuracy = correct_predictions / total_samples\n",
        "\n",
        "# Calculate average test loss\n",
        "average_test_loss = test_loss / (batch_idx + 1)\n",
        "\n",
        "# Print test results\n",
        "print(f'Test Accuracy: {test_accuracy * 100:.2f}%')\n",
        "\n",
        "# Set the model back to training mode if you plan to continue training\n",
        "model1.train()"
      ]
    },
    {
      "cell_type": "markdown",
      "metadata": {
        "id": "rWqSyieZ2DM3"
      },
      "source": [
        "## 5 - LSTM RNN Architectures\n",
        "\n",
        "We will now use an RNN based on Long Short-Term Memory (LSTM) modules. Recall, standard RNNs suffer from the [vanishing gradient problem](https://en.wikipedia.org/wiki/Vanishing_gradient_problem). LSTMs overcome this by having an extra recurrent state called a _cell_, $c$ - which can be thought of as the \"memory\" of the LSTM - and the use use multiple _gates_ which control the flow of information into and out of the memory.\n",
        "\n",
        "Thus, the model using an LSTM looks something like (with the embedding layers omitted):\n",
        "\n",
        "![](https://github.com/bentrevett/pytorch-sentiment-analysis/blob/master/assets/sentiment2.png?raw=1)\n",
        "\n",
        "The initial cell state, $c_0$, like the initial hidden state is initialized to a tensor of all zeros. The sentiment prediction is still, however, only made using the final hidden state, not the final cell state, i.e. $\\hat{y}=f(h_T)$."
      ]
    },
    {
      "cell_type": "markdown",
      "metadata": {
        "id": "Tn-zyV6o5Nqn"
      },
      "source": [
        "### 5.1 Implementation Details\n",
        "\n",
        "To use an LSTM instead of the standard RNN, we use `nn.LSTM` instead of `nn.RNN`. Also, note that the LSTM returns the `output` and a tuple of the final `hidden` state and the final `cell` state, whereas the standard RNN only returned the `output` and final `hidden` state.\n",
        "\n",
        "As the final hidden state of our LSTM has both a forward and a backward component, which will be concatenated together, the size of the input to the `nn.Linear` layer is twice that of the hidden dimension size.\n",
        "\n",
        "Implementing bidirectionality and adding additional layers are done by passing values for the `num_layers` and `bidirectional` arguments for the RNN/LSTM.\n",
        "\n",
        "Dropout is implemented by initializing an `nn.Dropout` layer (the argument is the probability of dropping out each neuron) and using it within the `forward` method after each layer we want to apply dropout to."
      ]
    },
    {
      "cell_type": "code",
      "execution_count": null,
      "metadata": {
        "id": "Japj1P5J2JJ1"
      },
      "outputs": [],
      "source": [
        "import torch\n",
        "import torch.nn as nn\n",
        "import torchtext.vocab as vocab\n",
        "import numpy as np\n",
        "\n",
        "class LSTM_SentimentAnalysis(nn.Module):\n",
        "    def __init__(self, vocab_size, embedding_dim, hidden_dim, dropout, pretrained_embeddings):\n",
        "        super(LSTM_SentimentAnalysis,self).__init__()\n",
        "\n",
        "        # Initialize the embedding layer with pre-trained word vectors\n",
        "        self.embedding = nn.Embedding.from_pretrained(pretrained_embeddings)\n",
        "\n",
        "        # The RNN layer takes in the embedding size and the hidden vector size.\n",
        "        self.lstm = nn.LSTM(embedding_dim, hidden_dim, batch_first=True)\n",
        "\n",
        "        # We use dropout before the final layer to improve with regularization.\n",
        "        self.dropout = nn.Dropout(dropout)\n",
        "\n",
        "        # The fully-connected layer takes in the hidden dim of the RNN and\n",
        "        # outputs a 3x1 vector of the class scores.\n",
        "        self.fc = nn.Linear(hidden_dim, 3)\n",
        "\n",
        "    def forward(self, x, hidden):\n",
        "        \"\"\"\n",
        "        The forward method takes in the input and the previous hidden state\n",
        "        \"\"\"\n",
        "\n",
        "        # The input is transformed to embeddings by passing it to the embedding layer\n",
        "        embs = self.embedding(x)\n",
        "\n",
        "        # The embedded inputs are fed to the LSTM alongside the previous hidden state\n",
        "        out, hidden = self.lstm(embs, hidden)\n",
        "\n",
        "        # Dropout is applied to the output and fed to the FC layer\n",
        "        out = self.dropout(out)\n",
        "        out = self.fc(out)\n",
        "\n",
        "        # We extract the scores for the final hidden state since it is the one that matters.\n",
        "        out = out[:, -1]\n",
        "        return out, hidden\n",
        "\n",
        "    def init_hidden(self,batch_size):\n",
        "        return (torch.zeros(1, batch_size, 32), torch.zeros(1, batch_size, 32))\n",
        "\n",
        "\n",
        "\n",
        "# Initialize model with pre-trained embeddings\n",
        "model2 = LSTM_SentimentAnalysis(vocab_size, embedding_dim, hidden_dim, dropout, pretrained_embeddings)\n"
      ]
    },
    {
      "cell_type": "markdown",
      "metadata": {
        "id": "uGxenz-Y4Mfs"
      },
      "source": [
        "### Train LSTM Model"
      ]
    },
    {
      "cell_type": "code",
      "execution_count": null,
      "metadata": {
        "id": "paTGBQQG3O1I"
      },
      "outputs": [],
      "source": [
        "model2 = model2.to(device)\n",
        "criterion = nn.CrossEntropyLoss()\n",
        "optimizer = torch.optim.Adam(model2.parameters(), lr = 3e-4)"
      ]
    },
    {
      "cell_type": "code",
      "execution_count": null,
      "metadata": {
        "colab": {
          "base_uri": "https://localhost:8080/"
        },
        "id": "ymod6LiIHiU0",
        "outputId": "085e5030-f6b0-4c70-a407-245d7e739744"
      },
      "outputs": [
        {
          "output_type": "stream",
          "name": "stdout",
          "text": [
            "The model has 17,251 trainable parameters\n"
          ]
        }
      ],
      "source": [
        "print(f'The model has {count_parameters(model2):,} trainable parameters')"
      ]
    },
    {
      "cell_type": "code",
      "execution_count": null,
      "metadata": {
        "colab": {
          "base_uri": "https://localhost:8080/",
          "height": 1000
        },
        "id": "b_xJ_AAN3RW3",
        "outputId": "d949eaf2-46e4-49e8-a548-2227a8009a51"
      },
      "outputs": [
        {
          "output_type": "stream",
          "name": "stdout",
          "text": [
            "Epoch [1/100] | Epoch Time: 0m 1s -- Loss: 1.0657 - Accuracy: 52.41%\n",
            "Epoch [2/100] | Epoch Time: 0m 1s -- Loss: 1.0016 - Accuracy: 53.66%\n",
            "Epoch [3/100] | Epoch Time: 0m 1s -- Loss: 0.9805 - Accuracy: 53.81%\n",
            "Epoch [4/100] | Epoch Time: 0m 2s -- Loss: 0.9789 - Accuracy: 53.70%\n",
            "Epoch [5/100] | Epoch Time: 0m 1s -- Loss: 0.9522 - Accuracy: 53.61%\n",
            "Epoch [6/100] | Epoch Time: 0m 1s -- Loss: 0.9105 - Accuracy: 54.06%\n",
            "Epoch [7/100] | Epoch Time: 0m 1s -- Loss: 0.8829 - Accuracy: 54.73%\n",
            "Epoch [8/100] | Epoch Time: 0m 1s -- Loss: 0.8699 - Accuracy: 58.71%\n",
            "Epoch [9/100] | Epoch Time: 0m 1s -- Loss: 0.8498 - Accuracy: 61.29%\n",
            "Epoch [10/100] | Epoch Time: 0m 1s -- Loss: 0.8426 - Accuracy: 61.89%\n",
            "Epoch [11/100] | Epoch Time: 0m 1s -- Loss: 0.8264 - Accuracy: 62.71%\n",
            "Epoch [12/100] | Epoch Time: 0m 1s -- Loss: 0.8178 - Accuracy: 63.46%\n",
            "Epoch [13/100] | Epoch Time: 0m 1s -- Loss: 0.8063 - Accuracy: 63.87%\n",
            "Epoch [14/100] | Epoch Time: 0m 1s -- Loss: 0.7997 - Accuracy: 64.15%\n",
            "Epoch [15/100] | Epoch Time: 0m 1s -- Loss: 0.7924 - Accuracy: 64.43%\n",
            "Epoch [16/100] | Epoch Time: 0m 1s -- Loss: 0.7778 - Accuracy: 65.44%\n",
            "Epoch [17/100] | Epoch Time: 0m 1s -- Loss: 0.7790 - Accuracy: 65.40%\n",
            "Epoch [18/100] | Epoch Time: 0m 1s -- Loss: 0.7703 - Accuracy: 66.15%\n",
            "Epoch [19/100] | Epoch Time: 0m 1s -- Loss: 0.7614 - Accuracy: 66.71%\n",
            "Epoch [20/100] | Epoch Time: 0m 1s -- Loss: 0.7584 - Accuracy: 66.56%\n",
            "Epoch [21/100] | Epoch Time: 0m 1s -- Loss: 0.7524 - Accuracy: 67.12%\n",
            "Epoch [22/100] | Epoch Time: 0m 1s -- Loss: 0.7424 - Accuracy: 67.42%\n",
            "Epoch [23/100] | Epoch Time: 0m 1s -- Loss: 0.7379 - Accuracy: 67.94%\n",
            "Epoch [24/100] | Epoch Time: 0m 1s -- Loss: 0.7279 - Accuracy: 68.80%\n",
            "Epoch [25/100] | Epoch Time: 0m 1s -- Loss: 0.7258 - Accuracy: 68.69%\n",
            "Epoch [26/100] | Epoch Time: 0m 1s -- Loss: 0.7238 - Accuracy: 69.08%\n",
            "Epoch [27/100] | Epoch Time: 0m 1s -- Loss: 0.7202 - Accuracy: 69.27%\n",
            "Epoch [28/100] | Epoch Time: 0m 1s -- Loss: 0.7119 - Accuracy: 69.72%\n",
            "Epoch [29/100] | Epoch Time: 0m 1s -- Loss: 0.7039 - Accuracy: 70.22%\n",
            "Epoch [30/100] | Epoch Time: 0m 1s -- Loss: 0.7019 - Accuracy: 70.67%\n",
            "Epoch [31/100] | Epoch Time: 0m 1s -- Loss: 0.6941 - Accuracy: 70.47%\n",
            "Epoch [32/100] | Epoch Time: 0m 1s -- Loss: 0.6864 - Accuracy: 71.48%\n",
            "Epoch [33/100] | Epoch Time: 0m 1s -- Loss: 0.6844 - Accuracy: 71.29%\n",
            "Epoch [34/100] | Epoch Time: 0m 1s -- Loss: 0.6827 - Accuracy: 71.16%\n",
            "Epoch [35/100] | Epoch Time: 0m 1s -- Loss: 0.6702 - Accuracy: 72.04%\n",
            "Epoch [36/100] | Epoch Time: 0m 1s -- Loss: 0.6616 - Accuracy: 72.58%\n",
            "Epoch [37/100] | Epoch Time: 0m 1s -- Loss: 0.6534 - Accuracy: 73.01%\n",
            "Epoch [38/100] | Epoch Time: 0m 1s -- Loss: 0.6488 - Accuracy: 73.66%\n",
            "Epoch [39/100] | Epoch Time: 0m 0s -- Loss: 0.6392 - Accuracy: 73.81%\n",
            "Epoch [40/100] | Epoch Time: 0m 0s -- Loss: 0.6331 - Accuracy: 74.13%\n",
            "Epoch [41/100] | Epoch Time: 0m 1s -- Loss: 0.6251 - Accuracy: 74.32%\n",
            "Epoch [42/100] | Epoch Time: 0m 1s -- Loss: 0.6269 - Accuracy: 74.24%\n",
            "Epoch [43/100] | Epoch Time: 0m 1s -- Loss: 0.6104 - Accuracy: 75.10%\n",
            "Epoch [44/100] | Epoch Time: 0m 1s -- Loss: 0.6082 - Accuracy: 75.29%\n",
            "Epoch [45/100] | Epoch Time: 0m 1s -- Loss: 0.5950 - Accuracy: 75.57%\n",
            "Epoch [46/100] | Epoch Time: 0m 1s -- Loss: 0.5850 - Accuracy: 75.98%\n",
            "Epoch [47/100] | Epoch Time: 0m 1s -- Loss: 0.5898 - Accuracy: 75.81%\n",
            "Epoch [48/100] | Epoch Time: 0m 1s -- Loss: 0.5865 - Accuracy: 76.06%\n",
            "Epoch [49/100] | Epoch Time: 0m 1s -- Loss: 0.5820 - Accuracy: 75.76%\n",
            "Epoch [50/100] | Epoch Time: 0m 1s -- Loss: 0.5628 - Accuracy: 76.52%\n",
            "Epoch [51/100] | Epoch Time: 0m 0s -- Loss: 0.5637 - Accuracy: 76.80%\n",
            "Epoch [52/100] | Epoch Time: 0m 1s -- Loss: 0.5480 - Accuracy: 76.60%\n",
            "Epoch [53/100] | Epoch Time: 0m 1s -- Loss: 0.5475 - Accuracy: 77.18%\n",
            "Epoch [54/100] | Epoch Time: 0m 1s -- Loss: 0.5352 - Accuracy: 77.89%\n",
            "Epoch [55/100] | Epoch Time: 0m 1s -- Loss: 0.5337 - Accuracy: 77.51%\n",
            "Epoch [56/100] | Epoch Time: 0m 1s -- Loss: 0.5375 - Accuracy: 77.76%\n",
            "Epoch [57/100] | Epoch Time: 0m 1s -- Loss: 0.5297 - Accuracy: 77.68%\n",
            "Epoch [58/100] | Epoch Time: 0m 1s -- Loss: 0.5146 - Accuracy: 78.11%\n",
            "Epoch [59/100] | Epoch Time: 0m 1s -- Loss: 0.5046 - Accuracy: 78.56%\n",
            "Epoch [60/100] | Epoch Time: 0m 1s -- Loss: 0.5152 - Accuracy: 78.69%\n",
            "Epoch [61/100] | Epoch Time: 0m 1s -- Loss: 0.4975 - Accuracy: 78.77%\n",
            "Epoch [62/100] | Epoch Time: 0m 1s -- Loss: 0.4858 - Accuracy: 79.51%\n",
            "Epoch [63/100] | Epoch Time: 0m 1s -- Loss: 0.4796 - Accuracy: 79.76%\n",
            "Epoch [64/100] | Epoch Time: 0m 1s -- Loss: 0.4758 - Accuracy: 79.70%\n",
            "Epoch [65/100] | Epoch Time: 0m 1s -- Loss: 0.4634 - Accuracy: 80.41%\n",
            "Epoch [66/100] | Epoch Time: 0m 1s -- Loss: 0.4679 - Accuracy: 80.32%\n",
            "Epoch [67/100] | Epoch Time: 0m 1s -- Loss: 0.4891 - Accuracy: 79.83%\n",
            "Epoch [68/100] | Epoch Time: 0m 1s -- Loss: 0.4496 - Accuracy: 81.08%\n",
            "Epoch [69/100] | Epoch Time: 0m 1s -- Loss: 0.4606 - Accuracy: 80.54%\n",
            "Epoch [70/100] | Epoch Time: 0m 1s -- Loss: 0.4498 - Accuracy: 81.48%\n",
            "Epoch [71/100] | Epoch Time: 0m 1s -- Loss: 0.4415 - Accuracy: 81.76%\n",
            "Epoch [72/100] | Epoch Time: 0m 1s -- Loss: 0.4399 - Accuracy: 81.14%\n",
            "Epoch [73/100] | Epoch Time: 0m 1s -- Loss: 0.4357 - Accuracy: 82.02%\n",
            "Epoch [74/100] | Epoch Time: 0m 1s -- Loss: 0.4275 - Accuracy: 82.49%\n",
            "Epoch [75/100] | Epoch Time: 0m 1s -- Loss: 0.4293 - Accuracy: 81.53%\n",
            "Epoch [76/100] | Epoch Time: 0m 1s -- Loss: 0.4096 - Accuracy: 82.99%\n",
            "Epoch [77/100] | Epoch Time: 0m 1s -- Loss: 0.4164 - Accuracy: 82.34%\n",
            "Epoch [78/100] | Epoch Time: 0m 1s -- Loss: 0.4095 - Accuracy: 83.08%\n",
            "Epoch [79/100] | Epoch Time: 0m 1s -- Loss: 0.4040 - Accuracy: 82.71%\n",
            "Epoch [80/100] | Epoch Time: 0m 1s -- Loss: 0.3975 - Accuracy: 83.70%\n",
            "Epoch [81/100] | Epoch Time: 0m 1s -- Loss: 0.4168 - Accuracy: 82.52%\n",
            "Epoch [82/100] | Epoch Time: 0m 1s -- Loss: 0.3977 - Accuracy: 83.38%\n",
            "Epoch [83/100] | Epoch Time: 0m 1s -- Loss: 0.3894 - Accuracy: 83.55%\n",
            "Epoch [84/100] | Epoch Time: 0m 1s -- Loss: 0.3773 - Accuracy: 84.13%\n",
            "Epoch [85/100] | Epoch Time: 0m 1s -- Loss: 0.3900 - Accuracy: 83.78%\n",
            "Epoch [86/100] | Epoch Time: 0m 1s -- Loss: 0.4424 - Accuracy: 81.91%\n",
            "Epoch [87/100] | Epoch Time: 0m 0s -- Loss: 0.3941 - Accuracy: 83.31%\n",
            "Epoch [88/100] | Epoch Time: 0m 0s -- Loss: 0.3812 - Accuracy: 84.00%\n",
            "Epoch [89/100] | Epoch Time: 0m 1s -- Loss: 0.3901 - Accuracy: 84.17%\n",
            "Epoch [90/100] | Epoch Time: 0m 1s -- Loss: 0.3681 - Accuracy: 84.65%\n",
            "Epoch [91/100] | Epoch Time: 0m 1s -- Loss: 0.3661 - Accuracy: 84.71%\n",
            "Epoch [92/100] | Epoch Time: 0m 1s -- Loss: 0.3555 - Accuracy: 84.56%\n",
            "Epoch [93/100] | Epoch Time: 0m 1s -- Loss: 0.3623 - Accuracy: 85.23%\n",
            "Epoch [94/100] | Epoch Time: 0m 1s -- Loss: 0.3495 - Accuracy: 85.16%\n",
            "Epoch [95/100] | Epoch Time: 0m 1s -- Loss: 0.3808 - Accuracy: 84.28%\n",
            "Epoch [96/100] | Epoch Time: 0m 1s -- Loss: 0.3748 - Accuracy: 84.69%\n",
            "Epoch [97/100] | Epoch Time: 0m 1s -- Loss: 0.3410 - Accuracy: 85.70%\n",
            "Epoch [98/100] | Epoch Time: 0m 1s -- Loss: 0.3474 - Accuracy: 85.59%\n",
            "Epoch [99/100] | Epoch Time: 0m 1s -- Loss: 0.3377 - Accuracy: 85.66%\n",
            "Epoch [100/100] | Epoch Time: 0m 1s -- Loss: 0.3354 - Accuracy: 85.94%\n"
          ]
        },
        {
          "output_type": "display_data",
          "data": {
            "text/plain": [
              "<Figure size 1000x500 with 2 Axes>"
            ],
            "image/png": "[encoded data removed]"
          },
          "metadata": {}
        }
      ],
      "source": [
        "epochs = 100\n",
        "losses = []\n",
        "accuracies = []\n",
        "\n",
        "for e in range(epochs):\n",
        "    batch_size = 50\n",
        "    h0, c0= model2.init_hidden(batch_size)\n",
        "    h0 = h0.to(device)\n",
        "    c0 = c0.to(device)\n",
        "\n",
        "    total_loss = 0\n",
        "    correct_predictions = 0\n",
        "    total_samples = 0\n",
        "    start_time = time.time()\n",
        "    for batch_idx, batch in enumerate(train_dl):\n",
        "        input = batch[0].to(device)\n",
        "        target = batch[1].to(device)\n",
        "\n",
        "        optimizer.zero_grad()\n",
        "        with torch.set_grad_enabled(True):\n",
        "            out, hidden = model2(input, (h0, c0))\n",
        "            loss = criterion(out, target)\n",
        "            loss.backward()\n",
        "            optimizer.step()\n",
        "\n",
        "            total_loss += loss.item()\n",
        "\n",
        "            # Calculate accuracy\n",
        "            _, predicted = torch.max(out, 1)\n",
        "            correct_predictions += (predicted == target).sum().item()\n",
        "            total_samples += target.size(0)\n",
        "    end_time = time.time()\n",
        "    epoch_mins, epoch_secs = epoch_time(start_time, end_time)\n",
        "    losses.append(total_loss / (batch_idx + 1))\n",
        "    accuracy = correct_predictions / total_samples\n",
        "    accuracies.append(accuracy)\n",
        "\n",
        "    # Print progress after each epoch\n",
        "    print(f'Epoch [{e + 1}/{epochs}] | Epoch Time: {epoch_mins}m {epoch_secs}s -- Loss: {losses[-1]:.4f} - Accuracy: {accuracy * 100:.2f}%')\n",
        "\n",
        "# Plot loss and accuracy\n",
        "plt.figure(figsize=(10, 5))\n",
        "plt.subplot(1, 2, 1)\n",
        "plt.plot(losses)\n",
        "plt.xlabel('Epochs')\n",
        "plt.ylabel('Loss')\n",
        "plt.title('Training Loss')\n",
        "\n",
        "plt.subplot(1, 2, 2)\n",
        "plt.plot(accuracies)\n",
        "plt.xlabel('Epochs')\n",
        "plt.ylabel('Accuracy')\n",
        "plt.title('Training Accuracy')\n",
        "\n",
        "plt.tight_layout()\n",
        "plt.show()"
      ]
    },
    {
      "cell_type": "markdown",
      "metadata": {
        "id": "aMSD8blN4Zvr"
      },
      "source": [
        "### Test LSTM Model"
      ]
    },
    {
      "cell_type": "code",
      "execution_count": null,
      "metadata": {
        "colab": {
          "base_uri": "https://localhost:8080/"
        },
        "id": "4kgZ_GQa31DQ",
        "outputId": "65322fe1-de83-4121-89e3-b74bc92cb709"
      },
      "outputs": [
        {
          "output_type": "stream",
          "name": "stdout",
          "text": [
            "Test Accuracy: 68.96%\n"
          ]
        },
        {
          "output_type": "execute_result",
          "data": {
            "text/plain": [
              "LSTM_SentimentAnalysis(\n",
              "  (embedding): Embedding(12991, 100)\n",
              "  (lstm): LSTM(100, 32, batch_first=True)\n",
              "  (dropout): Dropout(p=0.45, inplace=False)\n",
              "  (fc): Linear(in_features=32, out_features=3, bias=True)\n",
              ")"
            ]
          },
          "metadata": {},
          "execution_count": 39
        }
      ],
      "source": [
        "# Initialize variables to track test accuracy and loss\n",
        "test_loss = 0\n",
        "correct_predictions = 0\n",
        "total_samples = 0\n",
        "\n",
        "# Set the model in evaluation mode\n",
        "model2.eval()\n",
        "\n",
        "with torch.no_grad():\n",
        "    for batch_idx, batch in enumerate(test_dl):\n",
        "        input = batch[0].to(device)\n",
        "        target = batch[1].to(device)\n",
        "\n",
        "        # Forward pass\n",
        "        out, hidden = model2(input, (h0, c0))\n",
        "\n",
        "        # Calculate accuracy\n",
        "        _, predicted = torch.max(out, 1)\n",
        "        correct_predictions += (predicted == target).sum().item()\n",
        "        total_samples += target.size(0)\n",
        "\n",
        "# Calculate test accuracy\n",
        "test_accuracy = correct_predictions / total_samples\n",
        "\n",
        "# Calculate average test loss\n",
        "average_test_loss = test_loss / (batch_idx + 1)\n",
        "\n",
        "# Print test results\n",
        "print(f'Test Accuracy: {test_accuracy * 100:.2f}%')\n",
        "\n",
        "# Set the model back to training mode if you plan to continue training\n",
        "model2.train()"
      ]
    },
    {
      "cell_type": "markdown",
      "metadata": {
        "id": "lmk8NUsV5vhs"
      },
      "source": [
        "## 6 - Other RNN Architectures\n",
        "\n",
        "### 6.1 Bidirectional RNN\n",
        "\n",
        "A bidirectional RNN is an RNN processing the words in the sentence from the first to the last (a forward RNN) with a second RNN processing the words in the sentence from the **last to the first** (a backward RNN). At time step $t$, the forward RNN is processing word $x_t$, and the backward RNN is processing word $x_{T-t+1}$.\n",
        "\n",
        "In PyTorch, the hidden state (and cell state) tensors returned by the forward and backward RNNs are stacked on top of each other in a single tensor.\n",
        "\n",
        "We make our sentiment prediction using a concatenation of the last hidden state from the forward RNN (obtained from final word of the sentence), $h_T^\\rightarrow$, and the last hidden state from the backward RNN (obtained from the first word of the sentence), $h_T^\\leftarrow$, i.e. $\\hat{y}=f(h_T^\\rightarrow, h_T^\\leftarrow)$   \n",
        "\n",
        "The image below shows a bi-directional RNN, with the forward RNN in orange, the backward RNN in green and the linear layer in silver.  \n",
        "\n",
        "![](https://github.com/bentrevett/pytorch-sentiment-analysis/blob/master/assets/sentiment3.png?raw=1)\n",
        "\n",
        "### 6.2 Multi-layer RNN\n",
        "\n",
        "Multi-layer RNNs (also called *deep RNNs*) are another simple concept. The idea is that we add additional RNNs on top of the initial standard RNN, where each RNN added is another *layer*. The hidden state output by the first (bottom) RNN at time-step $t$ will be the input to the RNN above it at time step $t$. The prediction is then made from the final hidden state of the final (highest) layer.\n",
        "\n",
        "The image below shows a multi-layer unidirectional RNN, where the layer number is given as a superscript. Also note that each layer needs their own initial hidden state, $h_0^L$.\n",
        "\n",
        "![](https://github.com/bentrevett/pytorch-sentiment-analysis/blob/master/assets/sentiment4.png?raw=1)"
      ]
    },
    {
      "cell_type": "markdown",
      "source": [
        "*********************************\n",
        "**Implementing the Bidirectional RNN**"
      ],
      "metadata": {
        "id": "gR_w2qOsMYCO"
      }
    },
    {
      "cell_type": "code",
      "source": [
        "import torchtext\n",
        "import torchtext.vocab as vocab\n",
        "\n",
        "# Download GloVe embeddings\n",
        "#glove = vocab.GloVe(name='twitter.27B', dim=100)  # 100-dimensional embeddings\n",
        "\n",
        "vocab_size = len(word2index)\n",
        "embedding_dim = 100  # Match the dimension of the GloVe embeddings\n",
        "hidden_dim = 32\n",
        "dropout = 0.1  # Adjust dropout as needed\n",
        "\n",
        "# Create the embedding matrix with pre-trained word vectors\n",
        "pretrained_embeddings = torch.FloatTensor(vocab_size, embedding_dim)\n",
        "for word, index in word2index.items():\n",
        "    if word in glove.stoi:\n",
        "        pretrained_embeddings[index] = glove.vectors[glove.stoi[word]]\n",
        "    else:\n",
        "        pretrained_embeddings[index] = torch.zeros(embedding_dim)  # Use zeros for OOV words\n",
        "\n",
        "\n",
        "def count_parameters(model):\n",
        "    return sum(p.numel() for p in model.parameters() if p.requires_grad)\n",
        "\n",
        "import time\n",
        "\n",
        "def epoch_time(start_time, end_time):\n",
        "    elapsed_time = end_time - start_time\n",
        "    elapsed_mins = int(elapsed_time / 60)\n",
        "    elapsed_secs = int(elapsed_time - (elapsed_mins * 60))\n",
        "    return elapsed_mins, elapsed_secs\n",
        "\n"
      ],
      "metadata": {
        "id": "pppmiP4ZMKjI"
      },
      "execution_count": null,
      "outputs": []
    },
    {
      "cell_type": "code",
      "source": [
        "import torch\n",
        "import torch.nn as nn\n",
        "import torchtext.vocab as vocab\n",
        "import numpy as np\n",
        "\n",
        "class LSTM_SentimentAnalysis(nn.Module):\n",
        "    def __init__(self, vocab_size, embedding_dim, hidden_dim, dropout, pretrained_embeddings):\n",
        "        super(LSTM_SentimentAnalysis, self).__init__()\n",
        "\n",
        "        # Initialize the embedding layer with pre-trained word vectors\n",
        "        self.embedding = nn.Embedding.from_pretrained(pretrained_embeddings)\n",
        "\n",
        "        # Modify the LSTM layer to be bidirectional\n",
        "        self.lstm = nn.LSTM(embedding_dim, hidden_dim, batch_first=True, bidirectional=True)\n",
        "\n",
        "        # Update the dropout\n",
        "        self.dropout = nn.Dropout(dropout)\n",
        "\n",
        "        # Update the fully-connected layer to take the concatenated hidden states\n",
        "        self.fc = nn.Linear(hidden_dim * 2, 3)  # Multiply by 2 because it's bidirectional\n",
        "\n",
        "    def forward(self, x, hidden):\n",
        "        # The input is transformed to embeddings by passing it to the embedding layer\n",
        "        embs = self.embedding(x)\n",
        "\n",
        "        # The embedded inputs are fed to the LSTM alongside the previous hidden state\n",
        "        out, hidden = self.lstm(embs, hidden)\n",
        "\n",
        "        # Dropout is applied to the output\n",
        "        out = self.dropout(out)\n",
        "\n",
        "        # We concatenate the final forward and backward hidden states\n",
        "        out = torch.cat((out[:, -1, :hidden_dim], out[:, 0, hidden_dim:]), dim=1)\n",
        "\n",
        "        # And feed it to the FC layer to get the final class scores\n",
        "        out = self.fc(out)\n",
        "        return out, hidden\n",
        "\n",
        "    def init_hidden(self, batch_size):\n",
        "        # Initialize hidden state with dimensions (num_layers * num_directions, batch_size, hidden_dim)\n",
        "        return (torch.zeros(2, batch_size, 32), torch.zeros(2, batch_size, 32))  # Multiply by 2 for bidirectionality\n",
        "\n",
        "\n",
        "# Initialize model with pre-trained embeddings\n",
        "model2 = LSTM_SentimentAnalysis(vocab_size, embedding_dim, hidden_dim, dropout, pretrained_embeddings)\n"
      ],
      "metadata": {
        "id": "sCa7Yy56b_2o"
      },
      "execution_count": null,
      "outputs": []
    },
    {
      "cell_type": "code",
      "source": [
        "model2 = model2.to(device)\n",
        "criterion = nn.CrossEntropyLoss()\n",
        "optimizer = torch.optim.Adam(model2.parameters(), lr = 3e-4)\n",
        "\n",
        "print(f'The model has {count_parameters(model2):,} trainable parameters')"
      ],
      "metadata": {
        "colab": {
          "base_uri": "https://localhost:8080/"
        },
        "id": "oP42rKexcyhO",
        "outputId": "d629dd5e-4df7-4332-ac71-12c103382ed4"
      },
      "execution_count": null,
      "outputs": [
        {
          "output_type": "stream",
          "name": "stdout",
          "text": [
            "The model has 34,499 trainable parameters\n"
          ]
        }
      ]
    },
    {
      "cell_type": "code",
      "source": [
        "epochs = 70\n",
        "losses = []\n",
        "accuracies = []\n",
        "\n",
        "for e in range(epochs):\n",
        "    batch_size = 50\n",
        "    h0, c0= model2.init_hidden(batch_size)\n",
        "    h0 = h0.to(device)\n",
        "    c0 = c0.to(device)\n",
        "\n",
        "    total_loss = 0\n",
        "    correct_predictions = 0\n",
        "    total_samples = 0\n",
        "    start_time = time.time()\n",
        "    for batch_idx, batch in enumerate(train_dl):\n",
        "        input = batch[0].to(device)\n",
        "        target = batch[1].to(device)\n",
        "\n",
        "        optimizer.zero_grad()\n",
        "        with torch.set_grad_enabled(True):\n",
        "            out, hidden = model2(input, (h0, c0))\n",
        "            loss = criterion(out, target)\n",
        "            loss.backward()\n",
        "            optimizer.step()\n",
        "\n",
        "            total_loss += loss.item()\n",
        "\n",
        "            # Calculate accuracy\n",
        "            _, predicted = torch.max(out, 1)\n",
        "            correct_predictions += (predicted == target).sum().item()\n",
        "            total_samples += target.size(0)\n",
        "    end_time = time.time()\n",
        "    epoch_mins, epoch_secs = epoch_time(start_time, end_time)\n",
        "    losses.append(total_loss / (batch_idx + 1))\n",
        "    accuracy = correct_predictions / total_samples\n",
        "    accuracies.append(accuracy)\n",
        "\n",
        "    # Print progress after each epoch\n",
        "    print(f'Epoch [{e + 1}/{epochs}] | Epoch Time: {epoch_mins}m {epoch_secs}s -- Loss: {losses[-1]:.4f} - Accuracy: {accuracy * 100:.2f}%')\n",
        "\n",
        "# Plot loss and accuracy\n",
        "plt.figure(figsize=(10, 5))\n",
        "plt.subplot(1, 2, 1)\n",
        "plt.plot(losses)\n",
        "plt.xlabel('Epochs')\n",
        "plt.ylabel('Loss')\n",
        "plt.title('Training Loss')\n",
        "\n",
        "plt.subplot(1, 2, 2)\n",
        "plt.plot(accuracies)\n",
        "plt.xlabel('Epochs')\n",
        "plt.ylabel('Accuracy')\n",
        "plt.title('Training Accuracy')\n",
        "\n",
        "plt.tight_layout()\n",
        "plt.show()"
      ],
      "metadata": {
        "colab": {
          "base_uri": "https://localhost:8080/",
          "height": 1000
        },
        "id": "AQ0tDqKRc_At",
        "outputId": "e818fe36-f2e6-4119-e5ac-615bba7b40af"
      },
      "execution_count": null,
      "outputs": [
        {
          "output_type": "stream",
          "name": "stdout",
          "text": [
            "Epoch [1/70] | Epoch Time: 0m 2s -- Loss: 1.0332 - Accuracy: 48.80%\n",
            "Epoch [2/70] | Epoch Time: 0m 1s -- Loss: 0.9408 - Accuracy: 54.95%\n",
            "Epoch [3/70] | Epoch Time: 0m 2s -- Loss: 0.8848 - Accuracy: 60.34%\n",
            "Epoch [4/70] | Epoch Time: 0m 2s -- Loss: 0.8531 - Accuracy: 62.41%\n",
            "Epoch [5/70] | Epoch Time: 0m 2s -- Loss: 0.8301 - Accuracy: 63.16%\n",
            "Epoch [6/70] | Epoch Time: 0m 1s -- Loss: 0.8075 - Accuracy: 64.39%\n",
            "Epoch [7/70] | Epoch Time: 0m 1s -- Loss: 0.7840 - Accuracy: 65.29%\n",
            "Epoch [8/70] | Epoch Time: 0m 1s -- Loss: 0.7621 - Accuracy: 66.02%\n",
            "Epoch [9/70] | Epoch Time: 0m 1s -- Loss: 0.7417 - Accuracy: 67.59%\n",
            "Epoch [10/70] | Epoch Time: 0m 2s -- Loss: 0.7225 - Accuracy: 68.13%\n",
            "Epoch [11/70] | Epoch Time: 0m 2s -- Loss: 0.7104 - Accuracy: 68.39%\n",
            "Epoch [12/70] | Epoch Time: 0m 1s -- Loss: 0.6889 - Accuracy: 69.48%\n",
            "Epoch [13/70] | Epoch Time: 0m 1s -- Loss: 0.6718 - Accuracy: 70.49%\n",
            "Epoch [14/70] | Epoch Time: 0m 1s -- Loss: 0.6561 - Accuracy: 71.27%\n",
            "Epoch [15/70] | Epoch Time: 0m 1s -- Loss: 0.6415 - Accuracy: 72.19%\n",
            "Epoch [16/70] | Epoch Time: 0m 1s -- Loss: 0.6321 - Accuracy: 72.73%\n",
            "Epoch [17/70] | Epoch Time: 0m 2s -- Loss: 0.6189 - Accuracy: 73.66%\n",
            "Epoch [18/70] | Epoch Time: 0m 2s -- Loss: 0.6042 - Accuracy: 73.94%\n",
            "Epoch [19/70] | Epoch Time: 0m 1s -- Loss: 0.5933 - Accuracy: 74.60%\n",
            "Epoch [20/70] | Epoch Time: 0m 1s -- Loss: 0.5868 - Accuracy: 74.80%\n",
            "Epoch [21/70] | Epoch Time: 0m 1s -- Loss: 0.5707 - Accuracy: 76.02%\n",
            "Epoch [22/70] | Epoch Time: 0m 1s -- Loss: 0.5590 - Accuracy: 76.13%\n",
            "Epoch [23/70] | Epoch Time: 0m 2s -- Loss: 0.5468 - Accuracy: 76.73%\n",
            "Epoch [24/70] | Epoch Time: 0m 2s -- Loss: 0.5373 - Accuracy: 77.29%\n",
            "Epoch [25/70] | Epoch Time: 0m 2s -- Loss: 0.5266 - Accuracy: 77.91%\n",
            "Epoch [26/70] | Epoch Time: 0m 1s -- Loss: 0.5141 - Accuracy: 78.52%\n",
            "Epoch [27/70] | Epoch Time: 0m 1s -- Loss: 0.5023 - Accuracy: 78.56%\n",
            "Epoch [28/70] | Epoch Time: 0m 1s -- Loss: 0.4964 - Accuracy: 79.05%\n",
            "Epoch [29/70] | Epoch Time: 0m 1s -- Loss: 0.4808 - Accuracy: 79.35%\n",
            "Epoch [30/70] | Epoch Time: 0m 2s -- Loss: 0.4834 - Accuracy: 79.76%\n",
            "Epoch [31/70] | Epoch Time: 0m 2s -- Loss: 0.4658 - Accuracy: 80.41%\n",
            "Epoch [32/70] | Epoch Time: 0m 1s -- Loss: 0.4521 - Accuracy: 80.90%\n",
            "Epoch [33/70] | Epoch Time: 0m 1s -- Loss: 0.4443 - Accuracy: 81.05%\n",
            "Epoch [34/70] | Epoch Time: 0m 1s -- Loss: 0.4449 - Accuracy: 80.67%\n",
            "Epoch [35/70] | Epoch Time: 0m 1s -- Loss: 0.4334 - Accuracy: 81.63%\n",
            "Epoch [36/70] | Epoch Time: 0m 1s -- Loss: 0.4239 - Accuracy: 82.00%\n",
            "Epoch [37/70] | Epoch Time: 0m 2s -- Loss: 0.4202 - Accuracy: 81.55%\n",
            "Epoch [38/70] | Epoch Time: 0m 2s -- Loss: 0.4136 - Accuracy: 82.04%\n",
            "Epoch [39/70] | Epoch Time: 0m 2s -- Loss: 0.3966 - Accuracy: 83.05%\n",
            "Epoch [40/70] | Epoch Time: 0m 1s -- Loss: 0.3912 - Accuracy: 83.25%\n",
            "Epoch [41/70] | Epoch Time: 0m 1s -- Loss: 0.3831 - Accuracy: 83.16%\n",
            "Epoch [42/70] | Epoch Time: 0m 1s -- Loss: 0.3766 - Accuracy: 83.66%\n",
            "Epoch [43/70] | Epoch Time: 0m 2s -- Loss: 0.3687 - Accuracy: 84.02%\n",
            "Epoch [44/70] | Epoch Time: 0m 2s -- Loss: 0.3749 - Accuracy: 83.61%\n",
            "Epoch [45/70] | Epoch Time: 0m 2s -- Loss: 0.3638 - Accuracy: 83.91%\n",
            "Epoch [46/70] | Epoch Time: 0m 1s -- Loss: 0.3618 - Accuracy: 84.19%\n",
            "Epoch [47/70] | Epoch Time: 0m 1s -- Loss: 0.3425 - Accuracy: 84.77%\n",
            "Epoch [48/70] | Epoch Time: 0m 1s -- Loss: 0.3492 - Accuracy: 84.60%\n",
            "Epoch [49/70] | Epoch Time: 0m 1s -- Loss: 0.3392 - Accuracy: 85.08%\n",
            "Epoch [50/70] | Epoch Time: 0m 2s -- Loss: 0.3328 - Accuracy: 85.46%\n",
            "Epoch [51/70] | Epoch Time: 0m 2s -- Loss: 0.3290 - Accuracy: 85.70%\n",
            "Epoch [52/70] | Epoch Time: 0m 1s -- Loss: 0.3193 - Accuracy: 86.13%\n",
            "Epoch [53/70] | Epoch Time: 0m 1s -- Loss: 0.3209 - Accuracy: 85.81%\n",
            "Epoch [54/70] | Epoch Time: 0m 1s -- Loss: 0.3097 - Accuracy: 86.28%\n",
            "Epoch [55/70] | Epoch Time: 0m 1s -- Loss: 0.3028 - Accuracy: 86.62%\n",
            "Epoch [56/70] | Epoch Time: 0m 2s -- Loss: 0.2985 - Accuracy: 87.10%\n",
            "Epoch [57/70] | Epoch Time: 0m 2s -- Loss: 0.2971 - Accuracy: 86.39%\n",
            "Epoch [58/70] | Epoch Time: 0m 2s -- Loss: 0.2954 - Accuracy: 86.86%\n",
            "Epoch [59/70] | Epoch Time: 0m 1s -- Loss: 0.3023 - Accuracy: 86.47%\n",
            "Epoch [60/70] | Epoch Time: 0m 1s -- Loss: 0.2979 - Accuracy: 86.77%\n",
            "Epoch [61/70] | Epoch Time: 0m 1s -- Loss: 0.2821 - Accuracy: 86.92%\n",
            "Epoch [62/70] | Epoch Time: 0m 1s -- Loss: 0.2790 - Accuracy: 87.38%\n",
            "Epoch [63/70] | Epoch Time: 0m 2s -- Loss: 0.2829 - Accuracy: 87.23%\n",
            "Epoch [64/70] | Epoch Time: 0m 2s -- Loss: 0.2705 - Accuracy: 87.40%\n",
            "Epoch [65/70] | Epoch Time: 0m 1s -- Loss: 0.2764 - Accuracy: 87.57%\n",
            "Epoch [66/70] | Epoch Time: 0m 1s -- Loss: 0.2763 - Accuracy: 87.51%\n",
            "Epoch [67/70] | Epoch Time: 0m 1s -- Loss: 0.2805 - Accuracy: 87.14%\n",
            "Epoch [68/70] | Epoch Time: 0m 1s -- Loss: 0.2575 - Accuracy: 88.11%\n",
            "Epoch [69/70] | Epoch Time: 0m 1s -- Loss: 0.2833 - Accuracy: 87.48%\n",
            "Epoch [70/70] | Epoch Time: 0m 2s -- Loss: 0.2644 - Accuracy: 87.66%\n"
          ]
        },
        {
          "output_type": "display_data",
          "data": {
            "text/plain": [
              "<Figure size 1000x500 with 2 Axes>"
            ],
            "image/png": "[encoded data removed]"
          },
          "metadata": {}
        }
      ]
    },
    {
      "cell_type": "code",
      "source": [
        "# Initialize variables to track test accuracy and loss\n",
        "test_loss = 0\n",
        "correct_predictions = 0\n",
        "total_samples = 0\n",
        "\n",
        "# Set the model in evaluation mode\n",
        "model2.eval()\n",
        "\n",
        "with torch.no_grad():\n",
        "    for batch_idx, batch in enumerate(test_dl):\n",
        "        input = batch[0].to(device)\n",
        "        target = batch[1].to(device)\n",
        "\n",
        "        # Forward pass\n",
        "        out, hidden = model2(input, (h0, c0))\n",
        "\n",
        "        # Calculate accuracy\n",
        "        _, predicted = torch.max(out, 1)\n",
        "        correct_predictions += (predicted == target).sum().item()\n",
        "        total_samples += target.size(0)\n",
        "\n",
        "# Calculate test accuracy\n",
        "test_accuracy = correct_predictions / total_samples\n",
        "\n",
        "# Calculate average test loss\n",
        "average_test_loss = test_loss / (batch_idx + 1)\n",
        "\n",
        "# Print test results\n",
        "print(f'Test Accuracy: {test_accuracy * 100:.2f}%')\n",
        "\n",
        "# Set the model back to training mode if you plan to continue training\n",
        "model2.train()"
      ],
      "metadata": {
        "colab": {
          "base_uri": "https://localhost:8080/"
        },
        "id": "Qpvx0Em3dTxD",
        "outputId": "ec435c59-43c9-4400-d1c3-759e19ca1225"
      },
      "execution_count": null,
      "outputs": [
        {
          "output_type": "stream",
          "name": "stdout",
          "text": [
            "Test Accuracy: 68.43%\n"
          ]
        },
        {
          "output_type": "execute_result",
          "data": {
            "text/plain": [
              "LSTM_SentimentAnalysis(\n",
              "  (embedding): Embedding(12991, 100)\n",
              "  (lstm): LSTM(100, 32, batch_first=True, bidirectional=True)\n",
              "  (dropout): Dropout(p=0.1, inplace=False)\n",
              "  (fc): Linear(in_features=64, out_features=3, bias=True)\n",
              ")"
            ]
          },
          "metadata": {},
          "execution_count": 41
        }
      ]
    },
    {
      "cell_type": "code",
      "source": [],
      "metadata": {
        "id": "d-iCgOpeptkz"
      },
      "execution_count": null,
      "outputs": []
    },
    {
      "cell_type": "markdown",
      "source": [
        "********************\n",
        "**Oversampling**"
      ],
      "metadata": {
        "id": "NlLKkx4qmWr9"
      }
    },
    {
      "cell_type": "code",
      "source": [
        "from sklearn.utils import resample\n",
        "\n",
        "# Separate the dataframe by class\n",
        "df_majority = train_df[train_df.Sentiment == 'neutral']\n",
        "df_minority_positive = train_df[train_df.Sentiment == 'positive']\n",
        "df_minority_negative = train_df[train_df.Sentiment == 'negative']\n",
        "\n",
        "# Upsample minority classes to the size of the majority class\n",
        "df_minority_positive_upsampled = resample(df_minority_positive,\n",
        "                                          replace=True,\n",
        "                                          n_samples=df_majority.shape[0],\n",
        "                                          random_state=123)\n",
        "\n",
        "df_minority_negative_upsampled = resample(df_minority_negative,\n",
        "                                          replace=True,\n",
        "                                          n_samples=df_majority.shape[0],\n",
        "                                          random_state=123)\n",
        "\n",
        "# Combine majority class with upsampled minority classes\n",
        "df_upsampled = pd.concat([df_majority, df_minority_positive_upsampled, df_minority_negative_upsampled])\n",
        "\n",
        "# Shuffle the dataset to prevent the model from learning any order\n",
        "df_upsampled = df_upsampled.sample(frac=1, random_state=123).reset_index(drop=True)\n",
        "\n",
        "# Display new class counts\n",
        "print(df_upsampled.Sentiment.value_counts())\n"
      ],
      "metadata": {
        "colab": {
          "base_uri": "https://localhost:8080/"
        },
        "id": "G8JgOKpottvm",
        "outputId": "8bd270ce-f9af-4b2b-a428-1ec074b5ec63"
      },
      "execution_count": null,
      "outputs": [
        {
          "output_type": "stream",
          "name": "stdout",
          "text": [
            "negative    2508\n",
            "positive    2508\n",
            "neutral     2508\n",
            "Name: Sentiment, dtype: int64\n"
          ]
        }
      ]
    },
    {
      "cell_type": "code",
      "source": [
        "# Updated code for plotting the distribution after oversampling\n",
        "dd_upsampled = pd.Series(df_upsampled['Sentiment']).value_counts()\n",
        "sns.barplot(x=np.array(['negative', 'positive', 'neutral']), y=dd_upsampled.values)\n",
        "plt.show()\n"
      ],
      "metadata": {
        "colab": {
          "base_uri": "https://localhost:8080/",
          "height": 430
        },
        "id": "cFDXMxw9qIxE",
        "outputId": "a9ab8dd3-81e5-46ae-feac-c179ef8e92e8"
      },
      "execution_count": null,
      "outputs": [
        {
          "output_type": "display_data",
          "data": {
            "text/plain": [
              "<Figure size 640x480 with 1 Axes>"
            ],
            "image/png": "[encoded data removed]"
          },
          "metadata": {}
        }
      ]
    },
    {
      "cell_type": "code",
      "source": [
        "\n",
        "def remove_links(tweet):\n",
        "    link_pattern = \"https?:\\/\\/t.co/[\\w]+\"\n",
        "    mention_pattern = \"@\\w+\"\n",
        "    tweet = re.sub(link_pattern, \"\", tweet)\n",
        "    tweet = re.sub(mention_pattern, \"\", tweet)\n",
        "    return tweet.lower()\n",
        "\n",
        "remove_links('...Testing link removal...@isucpre @isuNews. https://t.co/isunews')"
      ],
      "metadata": {
        "id": "5_G3LnOXp2HX",
        "colab": {
          "base_uri": "https://localhost:8080/",
          "height": 36
        },
        "outputId": "4768049d-4494-449b-fafe-3a6fda470dc9"
      },
      "execution_count": null,
      "outputs": [
        {
          "output_type": "execute_result",
          "data": {
            "text/plain": [
              "'...testing link removal... . '"
            ],
            "application/vnd.google.colaboratory.intrinsic+json": {
              "type": "string"
            }
          },
          "metadata": {},
          "execution_count": 172
        }
      ]
    },
    {
      "cell_type": "code",
      "source": [
        "train_set_balanced = list(df_upsampled.to_records(index=False))\n",
        "\n",
        "test_set = list(test_df.to_records(index=False))\n",
        "\n",
        "print(train_set_balanced[:10])\n",
        "\n"
      ],
      "metadata": {
        "colab": {
          "base_uri": "https://localhost:8080/"
        },
        "id": "Xtb_AHe7gsrm",
        "outputId": "70ab88d9-e21b-424a-f79a-2c8138c0a73e"
      },
      "execution_count": null,
      "outputs": [
        {
          "output_type": "stream",
          "name": "stdout",
          "text": [
            "[('Profit before taxes decreased to EUR 31.6 mn from EUR 50.0 mn the year before .', 'negative'), ('The Federal Secretary for Transport and Communication of Mexico has awarded Poyry and its Mexican partner Sintra a consulting contract in connection with the Buenavista-Cuautitlan suburban railway .', 'positive'), (\"Capacity of the facility made by Finland 's Vaahto Group is 86,000 tons of light coated paper .\", 'neutral'), (\"easyJet leads Britain's FTSE lower as global bond rout resumes\", 'negative'), ('POYRY PLC Additional information by : Martin Kuzaj , President , Industry Business Group , Finland Tel. +358 10 33 21179 Sanna Paivaniemi , Director , Investor Relations , Poyry PLC , Finland Tel. +358 10 33 23002 Poyry is a global consulting and engineering company dedicated to balanced sustainability .', 'neutral'), (\"The platen edges in contact with the band are provided with a seal having a protrusion directed towards the middle area of the platen , and means are provided to exert and maintain a pressure in the volume defined by the platen , the band and the seal . ''\", 'neutral'), ('The permanent magnet generators and power converters are today the preferred solution in new wind turbine designs , the company said .', 'neutral'), ('$QCOM chart: Qualcomm Short 61.8% Retracement, Trendline and Resistance. https://t.co/2WQqh35KOY', 'negative'), ('They are also upset that some of the machinery and work is taken over to Poland .', 'negative'), ('The company negotiated an amendment to the financial covenants of the present credit agreements in regard to the situation on 30 September 2010 .', 'neutral')]\n"
          ]
        }
      ]
    },
    {
      "cell_type": "code",
      "source": [
        "def remove_links(tweet):\n",
        "    link_pattern = \"https?:\\/\\/t.co/[\\w]+\"\n",
        "    mention_pattern = \"@\\w+\"\n",
        "    tweet = re.sub(link_pattern, \"\", tweet)\n",
        "    tweet = re.sub(mention_pattern, \"\", tweet)\n",
        "    return tweet.lower()\n",
        "remove_links('...Testing link removal...@isucpre @isuNews. https://t.co/isunews')"
      ],
      "metadata": {
        "colab": {
          "base_uri": "https://localhost:8080/",
          "height": 36
        },
        "id": "o7Ut3MfyhKW0",
        "outputId": "36785919-4b16-4c17-e1b7-eeb462f0b4de"
      },
      "execution_count": null,
      "outputs": [
        {
          "output_type": "execute_result",
          "data": {
            "text/plain": [
              "'...testing link removal... . '"
            ],
            "application/vnd.google.colaboratory.intrinsic+json": {
              "type": "string"
            }
          },
          "metadata": {},
          "execution_count": 174
        }
      ]
    },
    {
      "cell_type": "code",
      "source": [
        "train_set_balanced = [(word_tokenize(remove_links(tweet)), label) for tweet, label in train_set_balanced]\n",
        "train_set_balanced[:3]\n",
        "\n",
        "test_set = [(word_tokenize(remove_links(tweet)), label) for tweet, label in test_set]\n",
        "test_set[:3]"
      ],
      "metadata": {
        "colab": {
          "base_uri": "https://localhost:8080/"
        },
        "id": "im99FfDNiWfG",
        "outputId": "0c6fbd2a-8226-4724-d062-533f352b613b"
      },
      "execution_count": null,
      "outputs": [
        {
          "output_type": "execute_result",
          "data": {
            "text/plain": [
              "[(['a',\n",
              "   'few',\n",
              "   'employees',\n",
              "   'would',\n",
              "   'remain',\n",
              "   'at',\n",
              "   'the',\n",
              "   'oulu',\n",
              "   'plant',\n",
              "   'in',\n",
              "   'support',\n",
              "   'functions',\n",
              "   'for',\n",
              "   'other',\n",
              "   'group',\n",
              "   'units',\n",
              "   '.'],\n",
              "  'neutral'),\n",
              " (['comparable',\n",
              "   'net',\n",
              "   'sales',\n",
              "   'are',\n",
              "   'expected',\n",
              "   'to',\n",
              "   'increase',\n",
              "   'more',\n",
              "   'than',\n",
              "   '10',\n",
              "   '%',\n",
              "   'in',\n",
              "   '2008',\n",
              "   ',',\n",
              "   'in',\n",
              "   'line',\n",
              "   'with',\n",
              "   'group',\n",
              "   'target',\n",
              "   '.'],\n",
              "  'positive'),\n",
              " (['tesla',\n",
              "   'is',\n",
              "   'recalling',\n",
              "   '2,700',\n",
              "   'model',\n",
              "   'x',\n",
              "   'cars',\n",
              "   ':',\n",
              "   '$',\n",
              "   'tsla'],\n",
              "  'negative')]"
            ]
          },
          "metadata": {},
          "execution_count": 175
        }
      ]
    },
    {
      "cell_type": "code",
      "source": [
        "index2word = [\"<PAD>\", \"<SOS>\", \"<EOS>\"]\n",
        "\n",
        "for ds in [train_set_balanced, test_set]:\n",
        "    for tweet, label in ds:\n",
        "        for token in tweet:\n",
        "            if token not in index2word:\n",
        "                index2word.append(token)\n",
        "index2word[5]"
      ],
      "metadata": {
        "colab": {
          "base_uri": "https://localhost:8080/",
          "height": 36
        },
        "id": "t23-o24xixUt",
        "outputId": "7a83d61a-287a-4ee6-f9f3-8313dceef516"
      },
      "execution_count": null,
      "outputs": [
        {
          "output_type": "execute_result",
          "data": {
            "text/plain": [
              "'taxes'"
            ],
            "application/vnd.google.colaboratory.intrinsic+json": {
              "type": "string"
            }
          },
          "metadata": {},
          "execution_count": 176
        }
      ]
    },
    {
      "cell_type": "code",
      "source": [
        "word2index = {token: idx for idx, token in enumerate(index2word)}"
      ],
      "metadata": {
        "id": "C8LJrAf4nH91"
      },
      "execution_count": null,
      "outputs": []
    },
    {
      "cell_type": "code",
      "source": [
        "word2index[\"taxes\"]"
      ],
      "metadata": {
        "colab": {
          "base_uri": "https://localhost:8080/"
        },
        "id": "DY4VmLY4nHk-",
        "outputId": "f6c91730-2d2e-4210-c06f-c0de19bda484"
      },
      "execution_count": null,
      "outputs": [
        {
          "output_type": "execute_result",
          "data": {
            "text/plain": [
              "5"
            ]
          },
          "metadata": {},
          "execution_count": 178
        }
      ]
    },
    {
      "cell_type": "code",
      "source": [
        "seq_length = 40\n",
        "\n",
        "def encode_and_pad(tweet, length):\n",
        "    sos = [word2index[\"<SOS>\"]]\n",
        "    eos = [word2index[\"<EOS>\"]]\n",
        "    pad = [word2index[\"<PAD>\"]]\n",
        "\n",
        "    if len(tweet) < length - 2: # -2 for SOS and EOS\n",
        "        n_pads = length - 2 - len(tweet)\n",
        "        encoded = [word2index[w] for w in tweet]\n",
        "        return sos + encoded + eos + pad * n_pads\n",
        "    else: # tweet is longer than possible; truncating\n",
        "        encoded = [word2index[w] for w in tweet]\n",
        "        truncated = encoded[:length - 2]\n",
        "        return sos + truncated + eos\n",
        "\n",
        "train_encoded = [(encode_and_pad(tweet, seq_length), label_map(label)) for tweet, label in train_set_balanced]\n",
        "\n",
        "test_encoded = [(encode_and_pad(tweet, seq_length), label_map(label)) for tweet, label in test_set]\n",
        "\n",
        "\n",
        "for i in train_encoded[:5]:\n",
        "    print(i)\n"
      ],
      "metadata": {
        "colab": {
          "base_uri": "https://localhost:8080/"
        },
        "id": "koRrCWsVjTKv",
        "outputId": "148fd6ae-0c32-4554-b844-cc6081551e1f"
      },
      "execution_count": null,
      "outputs": [
        {
          "output_type": "stream",
          "name": "stdout",
          "text": [
            "([1, 3, 4, 5, 6, 7, 8, 9, 10, 11, 8, 12, 10, 13, 14, 4, 15, 2, 0, 0, 0, 0, 0, 0, 0, 0, 0, 0, 0, 0, 0, 0, 0, 0, 0, 0, 0, 0, 0, 0], 0)\n",
            "([1, 13, 16, 17, 18, 19, 20, 21, 22, 23, 24, 25, 26, 20, 27, 28, 29, 30, 31, 32, 33, 34, 35, 36, 13, 37, 38, 39, 15, 2, 0, 0, 0, 0, 0, 0, 0, 0, 0, 0], 2)\n",
            "([1, 40, 22, 13, 41, 42, 43, 44, 45, 46, 47, 48, 49, 50, 22, 51, 52, 53, 15, 2, 0, 0, 0, 0, 0, 0, 0, 0, 0, 0, 0, 0, 0, 0, 0, 0, 0, 0, 0, 0], 1)\n",
            "([1, 54, 55, 56, 45, 57, 58, 59, 60, 61, 62, 63, 2, 0, 0, 0, 0, 0, 0, 0, 0, 0, 0, 0, 0, 0, 0, 0, 0, 0, 0, 0, 0, 0, 0, 0, 0, 0, 0, 0], 0)\n",
            "([1, 26, 64, 65, 66, 43, 67, 68, 69, 70, 71, 70, 72, 73, 47, 70, 44, 74, 15, 75, 76, 77, 78, 79, 80, 70, 81, 70, 82, 83, 70, 26, 64, 70, 44, 74, 15, 75, 76, 2], 1)\n"
          ]
        }
      ]
    },
    {
      "cell_type": "code",
      "source": [
        "batch_size = 50\n",
        "\n",
        "train_x = np.array([tweet for tweet, label in train_encoded])\n",
        "train_y = np.array([label for tweet, label in train_encoded])\n",
        "test_x = np.array([tweet for tweet, label in test_encoded])\n",
        "test_y = np.array([label for tweet, label in test_encoded])\n",
        "\n",
        "train_ds = TensorDataset(torch.from_numpy(train_x), torch.from_numpy(train_y))\n",
        "test_ds = TensorDataset(torch.from_numpy(test_x), torch.from_numpy(test_y))\n",
        "\n",
        "train_dl = DataLoader(train_ds, shuffle=True, batch_size=batch_size, drop_last=True)\n",
        "test_dl = DataLoader(test_ds, shuffle=True, batch_size=batch_size, drop_last=True)"
      ],
      "metadata": {
        "id": "9pPWrtDYpnlK"
      },
      "execution_count": null,
      "outputs": []
    },
    {
      "cell_type": "code",
      "source": [
        "import torchtext\n",
        "import torchtext.vocab as vocab\n",
        "\n",
        "# Download GloVe embeddings\n",
        "#glove = vocab.GloVe(name='twitter.27B', dim=100)  # 100-dimensional embeddings\n",
        "\n",
        "vocab_size = len(word2index)\n",
        "embedding_dim = 100  # Match the dimension of the GloVe embeddings\n",
        "hidden_dim = 32\n",
        "dropout = 0.45  # Adjust dropout as needed\n",
        "\n",
        "# Create the embedding matrix with pre-trained word vectors\n",
        "pretrained_embeddings = torch.FloatTensor(vocab_size, embedding_dim)\n",
        "for word, index in word2index.items():\n",
        "    if word in glove.stoi:\n",
        "        pretrained_embeddings[index] = glove.vectors[glove.stoi[word]]\n",
        "    else:\n",
        "        pretrained_embeddings[index] = torch.zeros(embedding_dim)  # Use zeros for OOV words"
      ],
      "metadata": {
        "id": "246hqJvUqL9h"
      },
      "execution_count": null,
      "outputs": []
    },
    {
      "cell_type": "code",
      "source": [
        "import torch\n",
        "import torch.nn as nn\n",
        "import torchtext.vocab as vocab\n",
        "import numpy as np\n",
        "\n",
        "class LSTM_SentimentAnalysis(nn.Module):\n",
        "    def __init__(self, vocab_size, embedding_dim, hidden_dim, dropout, pretrained_embeddings):\n",
        "        super(LSTM_SentimentAnalysis,self).__init__()\n",
        "\n",
        "        # Initialize the embedding layer with pre-trained word vectors\n",
        "        self.embedding = nn.Embedding.from_pretrained(pretrained_embeddings)\n",
        "\n",
        "        # The RNN layer takes in the embedding size and the hidden vector size.\n",
        "        self.lstm = nn.LSTM(embedding_dim, hidden_dim, batch_first=True)\n",
        "\n",
        "        # We use dropout before the final layer to improve with regularization.\n",
        "        self.dropout = nn.Dropout(dropout)\n",
        "\n",
        "        # The fully-connected layer takes in the hidden dim of the RNN and\n",
        "        # outputs a 3x1 vector of the class scores.\n",
        "        self.fc = nn.Linear(hidden_dim, 3)\n",
        "\n",
        "    def forward(self, x, hidden):\n",
        "        \"\"\"\n",
        "        The forward method takes in the input and the previous hidden state\n",
        "        \"\"\"\n",
        "\n",
        "        # The input is transformed to embeddings by passing it to the embedding layer\n",
        "        embs = self.embedding(x)\n",
        "\n",
        "        # The embedded inputs are fed to the LSTM alongside the previous hidden state\n",
        "        out, hidden = self.lstm(embs, hidden)\n",
        "\n",
        "        # Dropout is applied to the output and fed to the FC layer\n",
        "        out = self.dropout(out)\n",
        "        out = self.fc(out)\n",
        "\n",
        "        # We extract the scores for the final hidden state since it is the one that matters.\n",
        "        out = out[:, -1]\n",
        "        return out, hidden\n",
        "\n",
        "    def init_hidden(self,batch_size):\n",
        "        return (torch.zeros(1, batch_size, 32), torch.zeros(1, batch_size, 32))\n",
        "\n",
        "\n",
        "\n",
        "# Initialize model with pre-trained embeddings\n",
        "model2 = LSTM_SentimentAnalysis(vocab_size, embedding_dim, hidden_dim, dropout, pretrained_embeddings)\n"
      ],
      "metadata": {
        "id": "pcH-7tLyqat9"
      },
      "execution_count": null,
      "outputs": []
    },
    {
      "cell_type": "code",
      "source": [
        "model2 = model2.to(device)\n",
        "criterion = nn.CrossEntropyLoss()\n",
        "optimizer = torch.optim.Adam(model2.parameters(), lr = 3e-4)"
      ],
      "metadata": {
        "id": "do4o_LDhrLbq"
      },
      "execution_count": null,
      "outputs": []
    },
    {
      "cell_type": "code",
      "source": [
        "def count_parameters(model):\n",
        "    return sum(p.numel() for p in model.parameters() if p.requires_grad)"
      ],
      "metadata": {
        "id": "PUGWEHDisfDb"
      },
      "execution_count": null,
      "outputs": []
    },
    {
      "cell_type": "code",
      "source": [
        "print(f'The model has {count_parameters(model2):,} trainable parameters')"
      ],
      "metadata": {
        "colab": {
          "base_uri": "https://localhost:8080/"
        },
        "id": "_iCyHXLwrTSf",
        "outputId": "c9bed33e-63cb-4af8-9a7e-fc7371a6d823"
      },
      "execution_count": null,
      "outputs": [
        {
          "output_type": "stream",
          "name": "stdout",
          "text": [
            "The model has 17,251 trainable parameters\n"
          ]
        }
      ]
    },
    {
      "cell_type": "code",
      "source": [
        "import time\n",
        "\n",
        "def epoch_time(start_time, end_time):\n",
        "    elapsed_time = end_time - start_time\n",
        "    elapsed_mins = int(elapsed_time / 60)\n",
        "    elapsed_secs = int(elapsed_time - (elapsed_mins * 60))\n",
        "    return elapsed_mins, elapsed_secs"
      ],
      "metadata": {
        "id": "s71e79wkuS4c"
      },
      "execution_count": null,
      "outputs": []
    },
    {
      "cell_type": "code",
      "source": [
        "epochs = 70\n",
        "losses = []\n",
        "accuracies = []\n",
        "\n",
        "for e in range(epochs):\n",
        "    batch_size = 50\n",
        "    h0, c0= model2.init_hidden(batch_size)\n",
        "    h0 = h0.to(device)\n",
        "    c0 = c0.to(device)\n",
        "\n",
        "    total_loss = 0\n",
        "    correct_predictions = 0\n",
        "    total_samples = 0\n",
        "    start_time = time.time()\n",
        "    for batch_idx, batch in enumerate(train_dl):\n",
        "        input = batch[0].to(device)\n",
        "        target = batch[1].to(device)\n",
        "\n",
        "        optimizer.zero_grad()\n",
        "        with torch.set_grad_enabled(True):\n",
        "            out, hidden = model2(input, (h0, c0))\n",
        "            loss = criterion(out, target)\n",
        "            loss.backward()\n",
        "            optimizer.step()\n",
        "\n",
        "            total_loss += loss.item()\n",
        "\n",
        "            # Calculate accuracy\n",
        "            _, predicted = torch.max(out, 1)\n",
        "            correct_predictions += (predicted == target).sum().item()\n",
        "            total_samples += target.size(0)\n",
        "    end_time = time.time()\n",
        "    epoch_mins, epoch_secs = epoch_time(start_time, end_time)\n",
        "    losses.append(total_loss / (batch_idx + 1))\n",
        "    accuracy = correct_predictions / total_samples\n",
        "    accuracies.append(accuracy)\n",
        "\n",
        "    # Print progress after each epoch\n",
        "    print(f'Epoch [{e + 1}/{epochs}] | Epoch Time: {epoch_mins}m {epoch_secs}s -- Loss: {losses[-1]:.4f} - Accuracy: {accuracy * 100:.2f}%')\n",
        "\n",
        "# Plot loss and accuracy\n",
        "plt.figure(figsize=(10, 5))\n",
        "plt.subplot(1, 2, 1)\n",
        "plt.plot(losses)\n",
        "plt.xlabel('Epochs')\n",
        "plt.ylabel('Loss')\n",
        "plt.title('Training Loss')\n",
        "\n",
        "plt.subplot(1, 2, 2)\n",
        "plt.plot(accuracies)\n",
        "plt.xlabel('Epochs')\n",
        "plt.ylabel('Accuracy')\n",
        "plt.title('Training Accuracy')\n",
        "\n",
        "plt.tight_layout()\n",
        "plt.show()"
      ],
      "metadata": {
        "colab": {
          "base_uri": "https://localhost:8080/",
          "height": 1000
        },
        "id": "rf-bVfCNrVYI",
        "outputId": "81dca9f7-4d7c-4807-ab25-3c45eb26bc20"
      },
      "execution_count": null,
      "outputs": [
        {
          "output_type": "stream",
          "name": "stdout",
          "text": [
            "Epoch [1/70] | Epoch Time: 0m 1s -- Loss: 1.0993 - Accuracy: 33.40%\n",
            "Epoch [2/70] | Epoch Time: 0m 2s -- Loss: 1.0983 - Accuracy: 33.28%\n",
            "Epoch [3/70] | Epoch Time: 0m 2s -- Loss: 1.0963 - Accuracy: 34.69%\n",
            "Epoch [4/70] | Epoch Time: 0m 2s -- Loss: 1.0937 - Accuracy: 35.01%\n",
            "Epoch [5/70] | Epoch Time: 0m 1s -- Loss: 1.0543 - Accuracy: 44.27%\n",
            "Epoch [6/70] | Epoch Time: 0m 1s -- Loss: 1.0086 - Accuracy: 48.95%\n",
            "Epoch [7/70] | Epoch Time: 0m 1s -- Loss: 0.9754 - Accuracy: 52.40%\n",
            "Epoch [8/70] | Epoch Time: 0m 1s -- Loss: 0.9495 - Accuracy: 54.01%\n",
            "Epoch [9/70] | Epoch Time: 0m 2s -- Loss: 0.9333 - Accuracy: 55.37%\n",
            "Epoch [10/70] | Epoch Time: 0m 2s -- Loss: 0.9202 - Accuracy: 56.20%\n",
            "Epoch [11/70] | Epoch Time: 0m 2s -- Loss: 0.9068 - Accuracy: 57.17%\n",
            "Epoch [12/70] | Epoch Time: 0m 1s -- Loss: 0.9000 - Accuracy: 58.04%\n",
            "Epoch [13/70] | Epoch Time: 0m 1s -- Loss: 0.8797 - Accuracy: 59.28%\n",
            "Epoch [14/70] | Epoch Time: 0m 1s -- Loss: 0.8691 - Accuracy: 60.60%\n",
            "Epoch [15/70] | Epoch Time: 0m 1s -- Loss: 0.8467 - Accuracy: 61.83%\n",
            "Epoch [16/70] | Epoch Time: 0m 1s -- Loss: 0.8166 - Accuracy: 65.09%\n",
            "Epoch [17/70] | Epoch Time: 0m 2s -- Loss: 0.7932 - Accuracy: 66.40%\n",
            "Epoch [18/70] | Epoch Time: 0m 2s -- Loss: 0.7724 - Accuracy: 68.64%\n",
            "Epoch [19/70] | Epoch Time: 0m 1s -- Loss: 0.7439 - Accuracy: 70.44%\n",
            "Epoch [20/70] | Epoch Time: 0m 1s -- Loss: 0.7175 - Accuracy: 72.64%\n",
            "Epoch [21/70] | Epoch Time: 0m 1s -- Loss: 0.6929 - Accuracy: 74.28%\n",
            "Epoch [22/70] | Epoch Time: 0m 1s -- Loss: 0.6675 - Accuracy: 75.69%\n",
            "Epoch [23/70] | Epoch Time: 0m 1s -- Loss: 0.6364 - Accuracy: 77.55%\n",
            "Epoch [24/70] | Epoch Time: 0m 2s -- Loss: 0.6111 - Accuracy: 78.96%\n",
            "Epoch [25/70] | Epoch Time: 0m 2s -- Loss: 0.6017 - Accuracy: 79.61%\n",
            "Epoch [26/70] | Epoch Time: 0m 1s -- Loss: 0.5776 - Accuracy: 80.60%\n",
            "Epoch [27/70] | Epoch Time: 0m 1s -- Loss: 0.5793 - Accuracy: 80.64%\n",
            "Epoch [28/70] | Epoch Time: 0m 1s -- Loss: 0.5624 - Accuracy: 81.57%\n",
            "Epoch [29/70] | Epoch Time: 0m 1s -- Loss: 0.5520 - Accuracy: 81.96%\n",
            "Epoch [30/70] | Epoch Time: 0m 1s -- Loss: 0.5410 - Accuracy: 82.13%\n",
            "Epoch [31/70] | Epoch Time: 0m 2s -- Loss: 0.5308 - Accuracy: 83.00%\n",
            "Epoch [32/70] | Epoch Time: 0m 2s -- Loss: 0.5236 - Accuracy: 83.48%\n",
            "Epoch [33/70] | Epoch Time: 0m 2s -- Loss: 0.5044 - Accuracy: 84.08%\n",
            "Epoch [34/70] | Epoch Time: 0m 1s -- Loss: 0.5053 - Accuracy: 84.43%\n",
            "Epoch [35/70] | Epoch Time: 0m 1s -- Loss: 0.4979 - Accuracy: 84.59%\n",
            "Epoch [36/70] | Epoch Time: 0m 1s -- Loss: 0.5131 - Accuracy: 83.89%\n",
            "Epoch [37/70] | Epoch Time: 0m 1s -- Loss: 0.4892 - Accuracy: 85.17%\n",
            "Epoch [38/70] | Epoch Time: 0m 1s -- Loss: 0.4786 - Accuracy: 85.47%\n",
            "Epoch [39/70] | Epoch Time: 0m 2s -- Loss: 0.4709 - Accuracy: 86.03%\n",
            "Epoch [40/70] | Epoch Time: 0m 2s -- Loss: 0.4891 - Accuracy: 84.77%\n",
            "Epoch [41/70] | Epoch Time: 0m 1s -- Loss: 0.4693 - Accuracy: 85.71%\n",
            "Epoch [42/70] | Epoch Time: 0m 1s -- Loss: 0.4674 - Accuracy: 86.09%\n",
            "Epoch [43/70] | Epoch Time: 0m 1s -- Loss: 0.4600 - Accuracy: 86.24%\n",
            "Epoch [44/70] | Epoch Time: 0m 1s -- Loss: 0.4549 - Accuracy: 86.49%\n",
            "Epoch [45/70] | Epoch Time: 0m 1s -- Loss: 0.4615 - Accuracy: 86.21%\n",
            "Epoch [46/70] | Epoch Time: 0m 3s -- Loss: 0.4441 - Accuracy: 86.99%\n",
            "Epoch [47/70] | Epoch Time: 0m 2s -- Loss: 0.4469 - Accuracy: 86.69%\n",
            "Epoch [48/70] | Epoch Time: 0m 1s -- Loss: 0.4431 - Accuracy: 86.48%\n",
            "Epoch [49/70] | Epoch Time: 0m 1s -- Loss: 0.4346 - Accuracy: 87.20%\n",
            "Epoch [50/70] | Epoch Time: 0m 1s -- Loss: 0.4307 - Accuracy: 87.40%\n",
            "Epoch [51/70] | Epoch Time: 0m 1s -- Loss: 0.4382 - Accuracy: 87.03%\n",
            "Epoch [52/70] | Epoch Time: 0m 1s -- Loss: 0.4289 - Accuracy: 87.59%\n",
            "Epoch [53/70] | Epoch Time: 0m 2s -- Loss: 0.4218 - Accuracy: 87.87%\n",
            "Epoch [54/70] | Epoch Time: 0m 2s -- Loss: 0.4210 - Accuracy: 87.68%\n",
            "Epoch [55/70] | Epoch Time: 0m 1s -- Loss: 0.4077 - Accuracy: 88.23%\n",
            "Epoch [56/70] | Epoch Time: 0m 1s -- Loss: 0.4027 - Accuracy: 88.43%\n",
            "Epoch [57/70] | Epoch Time: 0m 1s -- Loss: 0.4162 - Accuracy: 87.85%\n",
            "Epoch [58/70] | Epoch Time: 0m 1s -- Loss: 0.4035 - Accuracy: 88.37%\n",
            "Epoch [59/70] | Epoch Time: 0m 1s -- Loss: 0.4090 - Accuracy: 88.09%\n",
            "Epoch [60/70] | Epoch Time: 0m 2s -- Loss: 0.3961 - Accuracy: 88.57%\n",
            "Epoch [61/70] | Epoch Time: 0m 2s -- Loss: 0.3947 - Accuracy: 88.49%\n",
            "Epoch [62/70] | Epoch Time: 0m 1s -- Loss: 0.4310 - Accuracy: 87.12%\n",
            "Epoch [63/70] | Epoch Time: 0m 1s -- Loss: 0.3866 - Accuracy: 88.80%\n",
            "Epoch [64/70] | Epoch Time: 0m 1s -- Loss: 0.3857 - Accuracy: 88.95%\n",
            "Epoch [65/70] | Epoch Time: 0m 1s -- Loss: 0.3846 - Accuracy: 88.88%\n",
            "Epoch [66/70] | Epoch Time: 0m 1s -- Loss: 0.3952 - Accuracy: 88.63%\n",
            "Epoch [67/70] | Epoch Time: 0m 1s -- Loss: 0.4142 - Accuracy: 87.61%\n",
            "Epoch [68/70] | Epoch Time: 0m 2s -- Loss: 0.3964 - Accuracy: 88.43%\n",
            "Epoch [69/70] | Epoch Time: 0m 2s -- Loss: 0.3746 - Accuracy: 89.33%\n",
            "Epoch [70/70] | Epoch Time: 0m 1s -- Loss: 0.3889 - Accuracy: 88.65%\n"
          ]
        },
        {
          "output_type": "display_data",
          "data": {
            "text/plain": [
              "<Figure size 1000x500 with 2 Axes>"
            ],
            "image/png": "[encoded data removed]"
          },
          "metadata": {}
        }
      ]
    },
    {
      "cell_type": "code",
      "source": [
        "# Initialize variables to track test accuracy and loss\n",
        "test_loss = 0\n",
        "correct_predictions = 0\n",
        "total_samples = 0\n",
        "\n",
        "# Set the model in evaluation mode\n",
        "model2.eval()\n",
        "\n",
        "with torch.no_grad():\n",
        "    for batch_idx, batch in enumerate(test_dl):\n",
        "        input = batch[0].to(device)\n",
        "        target = batch[1].to(device)\n",
        "\n",
        "        # Forward pass\n",
        "        out, hidden = model2(input, (h0, c0))\n",
        "\n",
        "        # Calculate accuracy\n",
        "        _, predicted = torch.max(out, 1)\n",
        "        correct_predictions += (predicted == target).sum().item()\n",
        "        total_samples += target.size(0)\n",
        "\n",
        "# Calculate test accuracy\n",
        "test_accuracy = correct_predictions / total_samples\n",
        "\n",
        "# Calculate average test loss\n",
        "average_test_loss = test_loss / (batch_idx + 1)\n",
        "\n",
        "# Print test results\n",
        "print(f'Test Accuracy: {test_accuracy * 100:.2f}%')\n",
        "\n",
        "# Set the model back to training mode if you plan to continue training\n",
        "model2.train()"
      ],
      "metadata": {
        "colab": {
          "base_uri": "https://localhost:8080/"
        },
        "id": "3fP_o4MnuhUV",
        "outputId": "129049dc-3397-4e71-d0d3-1bf40ec743b2"
      },
      "execution_count": null,
      "outputs": [
        {
          "output_type": "stream",
          "name": "stdout",
          "text": [
            "Test Accuracy: 67.57%\n"
          ]
        },
        {
          "output_type": "execute_result",
          "data": {
            "text/plain": [
              "LSTM_SentimentAnalysis(\n",
              "  (embedding): Embedding(12608, 100)\n",
              "  (lstm): LSTM(100, 32, batch_first=True)\n",
              "  (dropout): Dropout(p=0.45, inplace=False)\n",
              "  (fc): Linear(in_features=32, out_features=3, bias=True)\n",
              ")"
            ]
          },
          "metadata": {},
          "execution_count": 188
        }
      ]
    },
    {
      "cell_type": "markdown",
      "source": [
        "****************\n",
        "\n",
        "**Oversampling with Bidirectional LSTM**"
      ],
      "metadata": {
        "id": "KAT2mzVPRDqC"
      }
    },
    {
      "cell_type": "code",
      "source": [
        "import torchtext\n",
        "import torchtext.vocab as vocab\n",
        "\n",
        "# Download GloVe embeddings\n",
        "#glove = vocab.GloVe(name='twitter.27B', dim=100)  # 100-dimensional embeddings\n",
        "\n",
        "vocab_size = len(word2index)\n",
        "embedding_dim = 100  # Match the dimension of the GloVe embeddings\n",
        "hidden_dim = 32\n",
        "dropout = 0.25  # Adjust dropout as needed\n",
        "\n",
        "# Create the embedding matrix with pre-trained word vectors\n",
        "pretrained_embeddings = torch.FloatTensor(vocab_size, embedding_dim)\n",
        "for word, index in word2index.items():\n",
        "    if word in glove.stoi:\n",
        "        pretrained_embeddings[index] = glove.vectors[glove.stoi[word]]\n",
        "    else:\n",
        "        pretrained_embeddings[index] = torch.zeros(embedding_dim)  # Use zeros for OOV words\n",
        "\n",
        "\n",
        "def count_parameters(model):\n",
        "    return sum(p.numel() for p in model.parameters() if p.requires_grad)\n",
        "\n",
        "import time\n",
        "\n",
        "def epoch_time(start_time, end_time):\n",
        "    elapsed_time = end_time - start_time\n",
        "    elapsed_mins = int(elapsed_time / 60)\n",
        "    elapsed_secs = int(elapsed_time - (elapsed_mins * 60))\n",
        "    return elapsed_mins, elapsed_secs\n",
        "\n"
      ],
      "metadata": {
        "id": "LtxMo7tnRI5K"
      },
      "execution_count": null,
      "outputs": []
    },
    {
      "cell_type": "code",
      "source": [
        "import torch\n",
        "import torch.nn as nn\n",
        "import torchtext.vocab as vocab\n",
        "import numpy as np\n",
        "\n",
        "class LSTM_SentimentAnalysis(nn.Module):\n",
        "    def __init__(self, vocab_size, embedding_dim, hidden_dim, dropout, pretrained_embeddings):\n",
        "        super(LSTM_SentimentAnalysis, self).__init__()\n",
        "\n",
        "        # Initialize the embedding layer with pre-trained word vectors\n",
        "        self.embedding = nn.Embedding.from_pretrained(pretrained_embeddings)\n",
        "\n",
        "        # Modify the LSTM layer to be bidirectional\n",
        "        self.lstm = nn.LSTM(embedding_dim, hidden_dim, batch_first=True, bidirectional=True)\n",
        "\n",
        "        # Update the dropout\n",
        "        self.dropout = nn.Dropout(dropout)\n",
        "\n",
        "        # Update the fully-connected layer to take the concatenated hidden states\n",
        "        self.fc = nn.Linear(hidden_dim * 2, 3)  # Multiply by 2 because it's bidirectional\n",
        "\n",
        "    def forward(self, x, hidden):\n",
        "        # The input is transformed to embeddings by passing it to the embedding layer\n",
        "        embs = self.embedding(x)\n",
        "\n",
        "        # The embedded inputs are fed to the LSTM alongside the previous hidden state\n",
        "        out, hidden = self.lstm(embs, hidden)\n",
        "\n",
        "        # Dropout is applied to the output\n",
        "        out = self.dropout(out)\n",
        "\n",
        "        # We concatenate the final forward and backward hidden states\n",
        "        out = torch.cat((out[:, -1, :hidden_dim], out[:, 0, hidden_dim:]), dim=1)\n",
        "\n",
        "        # And feed it to the FC layer to get the final class scores\n",
        "        out = self.fc(out)\n",
        "        return out, hidden\n",
        "\n",
        "    def init_hidden(self, batch_size):\n",
        "        # Initialize hidden state with dimensions (num_layers * num_directions, batch_size, hidden_dim)\n",
        "        return (torch.zeros(2, batch_size, 32), torch.zeros(2, batch_size, 32))  # Multiply by 2 for bidirectionality\n",
        "\n",
        "\n",
        "# Initialize model with pre-trained embeddings\n",
        "model2 = LSTM_SentimentAnalysis(vocab_size, embedding_dim, hidden_dim, dropout, pretrained_embeddings)\n"
      ],
      "metadata": {
        "id": "aU01Xz8FRInw"
      },
      "execution_count": null,
      "outputs": []
    },
    {
      "cell_type": "code",
      "source": [
        "epochs = 50\n",
        "losses = []\n",
        "accuracies = []\n",
        "\n",
        "for e in range(epochs):\n",
        "    batch_size = 50\n",
        "    h0, c0= model2.init_hidden(batch_size)\n",
        "    h0 = h0.to(device)\n",
        "    c0 = c0.to(device)\n",
        "\n",
        "    total_loss = 0\n",
        "    correct_predictions = 0\n",
        "    total_samples = 0\n",
        "    start_time = time.time()\n",
        "    for batch_idx, batch in enumerate(train_dl):\n",
        "        input = batch[0].to(device)\n",
        "        target = batch[1].to(device)\n",
        "\n",
        "        optimizer.zero_grad()\n",
        "        with torch.set_grad_enabled(True):\n",
        "            out, hidden = model2(input, (h0, c0))\n",
        "            loss = criterion(out, target)\n",
        "            loss.backward()\n",
        "            optimizer.step()\n",
        "\n",
        "            total_loss += loss.item()\n",
        "\n",
        "            # Calculate accuracy\n",
        "            _, predicted = torch.max(out, 1)\n",
        "            correct_predictions += (predicted == target).sum().item()\n",
        "            total_samples += target.size(0)\n",
        "    end_time = time.time()\n",
        "    epoch_mins, epoch_secs = epoch_time(start_time, end_time)\n",
        "    losses.append(total_loss / (batch_idx + 1))\n",
        "    accuracy = correct_predictions / total_samples\n",
        "    accuracies.append(accuracy)\n",
        "\n",
        "    # Print progress after each epoch\n",
        "    print(f'Epoch [{e + 1}/{epochs}] | Epoch Time: {epoch_mins}m {epoch_secs}s -- Loss: {losses[-1]:.4f} - Accuracy: {accuracy * 100:.2f}%')\n",
        "\n",
        "# Plot loss and accuracy\n",
        "plt.figure(figsize=(10, 5))\n",
        "plt.subplot(1, 2, 1)\n",
        "plt.plot(losses)\n",
        "plt.xlabel('Epochs')\n",
        "plt.ylabel('Loss')\n",
        "plt.title('Training Loss')\n",
        "\n",
        "plt.subplot(1, 2, 2)\n",
        "plt.plot(accuracies)\n",
        "plt.xlabel('Epochs')\n",
        "plt.ylabel('Accuracy')\n",
        "plt.title('Training Accuracy')\n",
        "\n",
        "plt.tight_layout()\n",
        "plt.show()"
      ],
      "metadata": {
        "colab": {
          "base_uri": "https://localhost:8080/",
          "height": 1000
        },
        "id": "vtvIGDpbRIbC",
        "outputId": "ce145d3c-c30c-45b2-9306-1f99f99322ef"
      },
      "execution_count": null,
      "outputs": [
        {
          "output_type": "stream",
          "name": "stdout",
          "text": [
            "Epoch [1/50] | Epoch Time: 0m 3s -- Loss: 1.1033 - Accuracy: 31.81%\n",
            "Epoch [2/50] | Epoch Time: 0m 3s -- Loss: 1.1029 - Accuracy: 31.95%\n",
            "Epoch [3/50] | Epoch Time: 0m 3s -- Loss: 1.1030 - Accuracy: 31.77%\n",
            "Epoch [4/50] | Epoch Time: 0m 4s -- Loss: 1.1031 - Accuracy: 31.80%\n",
            "Epoch [5/50] | Epoch Time: 0m 3s -- Loss: 1.1031 - Accuracy: 31.41%\n",
            "Epoch [6/50] | Epoch Time: 0m 3s -- Loss: 1.1033 - Accuracy: 31.76%\n",
            "Epoch [7/50] | Epoch Time: 0m 3s -- Loss: 1.1032 - Accuracy: 31.88%\n",
            "Epoch [8/50] | Epoch Time: 0m 4s -- Loss: 1.1028 - Accuracy: 32.20%\n",
            "Epoch [9/50] | Epoch Time: 0m 3s -- Loss: 1.1035 - Accuracy: 31.25%\n",
            "Epoch [10/50] | Epoch Time: 0m 3s -- Loss: 1.1039 - Accuracy: 31.08%\n",
            "Epoch [11/50] | Epoch Time: 0m 3s -- Loss: 1.1028 - Accuracy: 31.92%\n",
            "Epoch [12/50] | Epoch Time: 0m 4s -- Loss: 1.1037 - Accuracy: 31.29%\n",
            "Epoch [13/50] | Epoch Time: 0m 3s -- Loss: 1.1035 - Accuracy: 31.81%\n",
            "Epoch [14/50] | Epoch Time: 0m 3s -- Loss: 1.1035 - Accuracy: 31.80%\n",
            "Epoch [15/50] | Epoch Time: 0m 3s -- Loss: 1.1036 - Accuracy: 31.60%\n",
            "Epoch [16/50] | Epoch Time: 0m 3s -- Loss: 1.1033 - Accuracy: 31.92%\n",
            "Epoch [17/50] | Epoch Time: 0m 3s -- Loss: 1.1031 - Accuracy: 31.53%\n",
            "Epoch [18/50] | Epoch Time: 0m 3s -- Loss: 1.1034 - Accuracy: 31.64%\n",
            "Epoch [19/50] | Epoch Time: 0m 3s -- Loss: 1.1033 - Accuracy: 31.75%\n",
            "Epoch [20/50] | Epoch Time: 0m 3s -- Loss: 1.1033 - Accuracy: 31.67%\n",
            "Epoch [21/50] | Epoch Time: 0m 4s -- Loss: 1.1036 - Accuracy: 31.52%\n",
            "Epoch [22/50] | Epoch Time: 0m 3s -- Loss: 1.1029 - Accuracy: 31.19%\n",
            "Epoch [23/50] | Epoch Time: 0m 3s -- Loss: 1.1039 - Accuracy: 31.41%\n",
            "Epoch [24/50] | Epoch Time: 0m 3s -- Loss: 1.1039 - Accuracy: 31.59%\n",
            "Epoch [25/50] | Epoch Time: 0m 4s -- Loss: 1.1031 - Accuracy: 31.87%\n",
            "Epoch [26/50] | Epoch Time: 0m 3s -- Loss: 1.1035 - Accuracy: 31.59%\n",
            "Epoch [27/50] | Epoch Time: 0m 3s -- Loss: 1.1036 - Accuracy: 31.52%\n",
            "Epoch [28/50] | Epoch Time: 0m 3s -- Loss: 1.1041 - Accuracy: 30.95%\n",
            "Epoch [29/50] | Epoch Time: 0m 4s -- Loss: 1.1037 - Accuracy: 31.40%\n",
            "Epoch [30/50] | Epoch Time: 0m 3s -- Loss: 1.1034 - Accuracy: 31.65%\n",
            "Epoch [31/50] | Epoch Time: 0m 3s -- Loss: 1.1035 - Accuracy: 31.56%\n",
            "Epoch [32/50] | Epoch Time: 0m 3s -- Loss: 1.1036 - Accuracy: 30.95%\n",
            "Epoch [33/50] | Epoch Time: 0m 4s -- Loss: 1.1036 - Accuracy: 31.71%\n",
            "Epoch [34/50] | Epoch Time: 0m 3s -- Loss: 1.1034 - Accuracy: 30.99%\n",
            "Epoch [35/50] | Epoch Time: 0m 3s -- Loss: 1.1035 - Accuracy: 31.73%\n",
            "Epoch [36/50] | Epoch Time: 0m 3s -- Loss: 1.1038 - Accuracy: 31.27%\n",
            "Epoch [37/50] | Epoch Time: 0m 4s -- Loss: 1.1028 - Accuracy: 31.76%\n",
            "Epoch [38/50] | Epoch Time: 0m 3s -- Loss: 1.1038 - Accuracy: 30.96%\n",
            "Epoch [39/50] | Epoch Time: 0m 3s -- Loss: 1.1037 - Accuracy: 31.76%\n",
            "Epoch [40/50] | Epoch Time: 0m 3s -- Loss: 1.1031 - Accuracy: 31.64%\n",
            "Epoch [41/50] | Epoch Time: 0m 4s -- Loss: 1.1037 - Accuracy: 31.39%\n",
            "Epoch [42/50] | Epoch Time: 0m 3s -- Loss: 1.1032 - Accuracy: 31.53%\n",
            "Epoch [43/50] | Epoch Time: 0m 3s -- Loss: 1.1039 - Accuracy: 31.40%\n",
            "Epoch [44/50] | Epoch Time: 0m 3s -- Loss: 1.1034 - Accuracy: 31.21%\n",
            "Epoch [45/50] | Epoch Time: 0m 3s -- Loss: 1.1037 - Accuracy: 31.07%\n",
            "Epoch [46/50] | Epoch Time: 0m 3s -- Loss: 1.1034 - Accuracy: 31.75%\n",
            "Epoch [47/50] | Epoch Time: 0m 3s -- Loss: 1.1032 - Accuracy: 32.19%\n",
            "Epoch [48/50] | Epoch Time: 0m 3s -- Loss: 1.1039 - Accuracy: 31.87%\n",
            "Epoch [49/50] | Epoch Time: 0m 3s -- Loss: 1.1035 - Accuracy: 31.52%\n",
            "Epoch [50/50] | Epoch Time: 0m 4s -- Loss: 1.1035 - Accuracy: 31.80%\n"
          ]
        },
        {
          "output_type": "display_data",
          "data": {
            "text/plain": [
              "<Figure size 1000x500 with 2 Axes>"
            ],
            "image/png": "[encoded data removed]"
          },
          "metadata": {}
        }
      ]
    },
    {
      "cell_type": "code",
      "source": [
        "# Initialize variables to track test accuracy and loss\n",
        "test_loss = 0\n",
        "correct_predictions = 0\n",
        "total_samples = 0\n",
        "\n",
        "# Set the model in evaluation mode\n",
        "model2.eval()\n",
        "\n",
        "with torch.no_grad():\n",
        "    for batch_idx, batch in enumerate(test_dl):\n",
        "        input = batch[0].to(device)\n",
        "        target = batch[1].to(device)\n",
        "\n",
        "        # Forward pass\n",
        "        out, hidden = model2(input, (h0, c0))\n",
        "\n",
        "        # Calculate accuracy\n",
        "        _, predicted = torch.max(out, 1)\n",
        "        correct_predictions += (predicted == target).sum().item()\n",
        "        total_samples += target.size(0)\n",
        "\n",
        "# Calculate test accuracy\n",
        "test_accuracy = correct_predictions / total_samples\n",
        "\n",
        "# Calculate average test loss\n",
        "average_test_loss = test_loss / (batch_idx + 1)\n",
        "\n",
        "# Print test results\n",
        "print(f'Test Accuracy: {test_accuracy * 100:.2f}%')\n",
        "\n",
        "# Set the model back to training mode if you plan to continue training\n",
        "model2.train()"
      ],
      "metadata": {
        "colab": {
          "base_uri": "https://localhost:8080/"
        },
        "id": "9hRWVOnuRILY",
        "outputId": "316a431d-ac1d-4c25-d684-01c6e6b5b604"
      },
      "execution_count": null,
      "outputs": [
        {
          "output_type": "stream",
          "name": "stdout",
          "text": [
            "Test Accuracy: 34.78%\n"
          ]
        },
        {
          "output_type": "execute_result",
          "data": {
            "text/plain": [
              "LSTM_SentimentAnalysis(\n",
              "  (embedding): Embedding(12608, 100)\n",
              "  (lstm): LSTM(100, 32, batch_first=True, bidirectional=True)\n",
              "  (dropout): Dropout(p=0.45, inplace=False)\n",
              "  (fc): Linear(in_features=64, out_features=3, bias=True)\n",
              ")"
            ]
          },
          "metadata": {},
          "execution_count": 109
        }
      ]
    },
    {
      "cell_type": "markdown",
      "metadata": {
        "id": "Tt2OrO2NtchR"
      },
      "source": [
        "## 7 Questions to Answer\n",
        "There are two sets of questions to answer. The first section has to do with the models in the assignment. The second set is on RNN's in genernal."
      ]
    },
    {
      "cell_type": "markdown",
      "metadata": {
        "id": "tJsLbLAmtchR"
      },
      "source": [
        "### 7.1 Working with RNNs for Sentiment Analysis\n",
        "\n",
        "\n",
        "1. Run the given Vanilla RNN and LSTM Models and analyze the computational cost and accuracy performance\n",
        "\n",
        "2. Implement at least one of Bi-directional or multi-layer RNN and ensure to improve performance of LSTM model\n",
        "\n",
        "3. Notice the data imbalance? Implement at least one data augmentation techniques on the dataset, then rerun the LSTM model, and compare performance difference before vs after data augmentation. Pick one of the following augmentation techniques:\n",
        "\n",
        "  a. Oversampling\n",
        "\n",
        "  b. Undersampling\n",
        "\n",
        "  c. Hybrid"
      ]
    },
    {
      "cell_type": "markdown",
      "metadata": {
        "id": "PRxZFgAc55hY"
      },
      "source": [
        "### 7.2 RNN Questions\n",
        "\n",
        "\n",
        "1. Describe the different ways RNNs are used in the applications of named-entity recognition and text synthesis and draw an architecture diagram for each application.\n",
        "\n",
        "2. Which of the following is true of the weights in a recurrent neural network?\n",
        "a. The weights are shared between all time steps.\n",
        "b. The weights are different for each time step.\n",
        "c. The weights are different for each input.\n",
        "d. The weights are different for each output.\n",
        "\n",
        "3. Select the best type of model (CNN, RNN, or Fully connected neural network) for each use case, match the use case to the model and provide a sentence of reasoning.\n",
        "Use cases:\n",
        "a. Tumor segmentation analysis or recognizing tumor patches in medical “slides”.\n",
        "b. Sentiment analysis on a large text corpus.\n",
        "c. Time series forecasting to predict price of automobile in the next month.\n",
        "d. Predict the price of a house based on square feet, ratio of bedrooms/bathrooms.\n"
      ]
    },
    {
      "cell_type": "code",
      "execution_count": null,
      "metadata": {
        "id": "A_rkwdb6tchR"
      },
      "outputs": [],
      "source": []
    }
  ],
  "metadata": {
    "colab": {
      "provenance": [],
      "include_colab_link": true
    },
    "kernelspec": {
      "display_name": "Python 3",
      "name": "python3"
    },
    "language_info": {
      "codemirror_mode": {
        "name": "ipython",
        "version": 3
      },
      "file_extension": ".py",
      "mimetype": "text/x-python",
      "name": "python",
      "nbconvert_exporter": "python",
      "pygments_lexer": "ipython3",
      "version": "3.11.4"
    }
  },
  "nbformat": 4,
  "nbformat_minor": 0
}